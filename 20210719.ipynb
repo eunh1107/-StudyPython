{
 "cells": [
  {
   "cell_type": "code",
   "execution_count": 1,
   "id": "288abdb5",
   "metadata": {},
   "outputs": [
    {
     "name": "stdout",
     "output_type": "stream",
     "text": [
      "어떤 커피 드릴까요?(1:보통, 2:설탕, 3:블랙)2\n",
      "\n",
      "#1. (자동으로) 뜨거운 물을 준비한다.\n",
      "#2. (자동으로) 종이컵을 준비한다.\n",
      "#3. (자동으로) 설탕커피를 탄다.\n",
      "#4. (자동으로) 물을 붓는다.\n",
      "#5. (자동으로) 스푼으로 젓는다.\n",
      "\n",
      "손님~ 커피 여기 있습니다.\n"
     ]
    }
   ],
   "source": [
    "## 전역 변수 선언 부분 ##\n",
    "coffee = 0\n",
    "\n",
    "## 함수 선언 부분 ##\n",
    "def coffee_machine(button):\n",
    "    print()\n",
    "    print(\"#1. (자동으로) 뜨거운 물을 준비한다.\")\n",
    "    print(\"#2. (자동으로) 종이컵을 준비한다.\")\n",
    "    \n",
    "    if button == 1:\n",
    "        print(\"#3. (자동으로) 보통커피를 탄다.\")\n",
    "    elif button == 2:\n",
    "        print(\"#3. (자동으로) 설탕커피를 탄다.\")\n",
    "    elif button == 3:\n",
    "        print(\"#3. (자동으로) 블랙커피를 탄다.\")\n",
    "    else : \n",
    "        print(\"#3. (자동으로) 아무거나 탄다.\\n\")\n",
    "    \n",
    "    print(\"#4. (자동으로) 물을 붓는다.\");\n",
    "    print(\"#5. (자동으로) 스푼으로 젓는다.\");\n",
    "    print()\n",
    "    \n",
    "## 메인 코드 부분 ##\n",
    "coffee = int(input(\"어떤 커피 드릴까요?(1:보통, 2:설탕, 3:블랙)\"))\n",
    "coffee_machine(coffee)\n",
    "print(\"손님~ 커피 여기 있습니다~\")\n"
   ]
  },
  {
   "cell_type": "code",
   "execution_count": 3,
   "id": "de3bacee",
   "metadata": {},
   "outputs": [
    {
     "name": "stdout",
     "output_type": "stream",
     "text": [
      "A손님, 어떤 커피 드릴까요?(1:보통, 2:설탕, 3:블랙)1\n",
      "\n",
      "#1. (자동으로) 뜨거운 물을 준비한다.\n",
      "#2. (자동으로) 종이컵을 준비한다.\n",
      "#3. (자동으로) 보통커피를 탄다.\n",
      "#4. (자동으로) 물을 붓는다.\n",
      "#5. (자동으로) 스푼으로 젓는다.\n",
      "\n",
      "A손님~ 커피 여기 있습니다~\n",
      "B손님, 어떤 커피 드릴까요?(1:보통, 2:설탕, 3:블랙)2\n",
      "\n",
      "#1. (자동으로) 뜨거운 물을 준비한다.\n",
      "#2. (자동으로) 종이컵을 준비한다.\n",
      "#3. (자동으로) 설탕커피를 탄다.\n",
      "#4. (자동으로) 물을 붓는다.\n",
      "#5. (자동으로) 스푼으로 젓는다.\n",
      "\n",
      "B손님~ 커피 여기 있습니다~\n",
      "C손님, 어떤 커피 드릴까요?(1:보통, 2:설탕, 3:블랙)3\n",
      "\n",
      "#1. (자동으로) 뜨거운 물을 준비한다.\n",
      "#2. (자동으로) 종이컵을 준비한다.\n",
      "#3. (자동으로) 블랙커피를 탄다.\n",
      "#4. (자동으로) 물을 붓는다.\n",
      "#5. (자동으로) 스푼으로 젓는다.\n",
      "\n",
      "C손님~ 커피 여기 있습니다~\n"
     ]
    }
   ],
   "source": [
    "## 전역 변수 선언 부분 ##\n",
    "coffee = 0\n",
    "\n",
    "## 함수 선언 부분 ##\n",
    "def coffee_machine(button):\n",
    "    print()\n",
    "    print(\"#1. (자동으로) 뜨거운 물을 준비한다.\")\n",
    "    print(\"#2. (자동으로) 종이컵을 준비한다.\")\n",
    "    \n",
    "    if button == 1:\n",
    "        print(\"#3. (자동으로) 보통커피를 탄다.\")\n",
    "    elif button == 2:\n",
    "        print(\"#3. (자동으로) 설탕커피를 탄다.\")\n",
    "    elif button == 3:\n",
    "        print(\"#3. (자동으로) 블랙커피를 탄다.\")\n",
    "    else : \n",
    "        print(\"#3. (자동으로) 아무거나 탄다.\\n\")\n",
    "    \n",
    "    print(\"#4. (자동으로) 물을 붓는다.\");\n",
    "    print(\"#5. (자동으로) 스푼으로 젓는다.\");\n",
    "    print()\n",
    "    \n",
    "## 메인 코드 부분 ##\n",
    "coffee = int(input(\"A손님, 어떤 커피 드릴까요?(1:보통, 2:설탕, 3:블랙)\"))\n",
    "coffee_machine(coffee)\n",
    "print(\"A손님~ 커피 여기 있습니다~\")\n",
    "\n",
    "coffee = int(input(\"B손님, 어떤 커피 드릴까요?(1:보통, 2:설탕, 3:블랙)\"))\n",
    "coffee_machine(coffee)\n",
    "print(\"B손님~ 커피 여기 있습니다~\")\n",
    "\n",
    "coffee = int(input(\"C손님, 어떤 커피 드릴까요?(1:보통, 2:설탕, 3:블랙)\"))\n",
    "coffee_machine(coffee)\n",
    "print(\"C손님~ 커피 여기 있습니다~\")\n"
   ]
  },
  {
   "cell_type": "code",
   "execution_count": 4,
   "id": "088b07d7",
   "metadata": {},
   "outputs": [
    {
     "name": "stdout",
     "output_type": "stream",
     "text": [
      "로제씨, 어떤 커피 드릴까요?(1:아메리카노, 2:카페라떼, 3:카푸치노, 4:에스프레소)4\n",
      "\n",
      "#1. (자동으로) 뜨거운 물을 준비한다.\n",
      "#2. (자동으로) 종이컵을 준비한다.\n",
      "#3. (자동으로) 에스프레소를 탄다.\n",
      "#4. (자동으로) 물을 붓는다.\n",
      "#5. (자동으로) 스푼으로 젓는다.\n",
      "\n",
      "로제씨~ 커피 여기 있습니다~\n",
      "리사씨, 어떤 커피 드릴까요?(1:아메리카노, 2:카페라떼, 3:카푸치노, 4:에스프레소)1\n",
      "\n",
      "#1. (자동으로) 뜨거운 물을 준비한다.\n",
      "#2. (자동으로) 종이컵을 준비한다.\n",
      "#3. (자동으로) 아메리카노를 탄다.\n",
      "#4. (자동으로) 물을 붓는다.\n",
      "#5. (자동으로) 스푼으로 젓는다.\n",
      "\n",
      "리사씨~ 커피 여기 있습니다~\n",
      "지수씨, 어떤 커피 드릴까요?(1:아메리카노, 2:카페라떼, 3:카푸치노, 4:에스프레소)2\n",
      "\n",
      "#1. (자동으로) 뜨거운 물을 준비한다.\n",
      "#2. (자동으로) 종이컵을 준비한다.\n",
      "#3. (자동으로) 카페라떼를 탄다.\n",
      "#4. (자동으로) 물을 붓는다.\n",
      "#5. (자동으로) 스푼으로 젓는다.\n",
      "\n",
      "지수씨~ 커피 여기 있습니다~\n",
      "제니씨, 어떤 커피 드릴까요?(1:아메리카노, 2:카페라떼, 3:카푸치노, 4:에스프레소)3\n",
      "\n",
      "#1. (자동으로) 뜨거운 물을 준비한다.\n",
      "#2. (자동으로) 종이컵을 준비한다.\n",
      "#3. (자동으로) 카푸치노를 탄다.\n",
      "#4. (자동으로) 물을 붓는다.\n",
      "#5. (자동으로) 스푼으로 젓는다.\n",
      "\n",
      "제니씨~ 커피 여기 있습니다~\n"
     ]
    }
   ],
   "source": [
    "## 전역 변수 선언 부분 ##\n",
    "coffee = 0\n",
    "\n",
    "## 함수 선언 부분 ##\n",
    "def coffee_machine(button):\n",
    "    print()\n",
    "    print(\"#1. (자동으로) 뜨거운 물을 준비한다.\")\n",
    "    print(\"#2. (자동으로) 종이컵을 준비한다.\")\n",
    "    \n",
    "    if button == 1:\n",
    "        print(\"#3. (자동으로) 아메리카노를 탄다.\")\n",
    "    elif button == 2:\n",
    "        print(\"#3. (자동으로) 카페라떼를 탄다.\")\n",
    "    elif button == 3:\n",
    "        print(\"#3. (자동으로) 카푸치노를 탄다.\")\n",
    "    elif button == 4:\n",
    "        print(\"#3. (자동으로) 에스프레소를 탄다.\")\n",
    "    else : \n",
    "        print(\"#3. (자동으로) 아무거나 탄다.\\n\")\n",
    "    \n",
    "    print(\"#4. (자동으로) 물을 붓는다.\");\n",
    "    print(\"#5. (자동으로) 스푼으로 젓는다.\");\n",
    "    print()\n",
    "    \n",
    "## 메인 코드 부분 ##\n",
    "coffee = int(input(\"로제씨, 어떤 커피 드릴까요?(1:아메리카노, 2:카페라떼, 3:카푸치노, 4:에스프레소)\"))\n",
    "coffee_machine(coffee)\n",
    "print(\"로제씨~ 커피 여기 있습니다~\")\n",
    "\n",
    "coffee = int(input(\"리사씨, 어떤 커피 드릴까요?(1:아메리카노, 2:카페라떼, 3:카푸치노, 4:에스프레소)\"))\n",
    "coffee_machine(coffee)\n",
    "print(\"리사씨~ 커피 여기 있습니다~\")\n",
    "\n",
    "coffee = int(input(\"지수씨, 어떤 커피 드릴까요?(1:아메리카노, 2:카페라떼, 3:카푸치노, 4:에스프레소)\"))\n",
    "coffee_machine(coffee)\n",
    "print(\"지수씨~ 커피 여기 있습니다~\")\n",
    "\n",
    "coffee = int(input(\"제니씨, 어떤 커피 드릴까요?(1:아메리카노, 2:카페라떼, 3:카푸치노, 4:에스프레소)\"))\n",
    "coffee_machine(coffee)\n",
    "print(\"제니씨~ 커피 여기 있습니다~\")"
   ]
  },
  {
   "cell_type": "code",
   "execution_count": 5,
   "id": "e0369c21",
   "metadata": {},
   "outputs": [
    {
     "name": "stdout",
     "output_type": "stream",
     "text": [
      "100과 200의 plus() 함수 결과는 300\n"
     ]
    }
   ],
   "source": [
    "## 함수 선언 부분 ##\n",
    "def plus(v1, v2):\n",
    "    result = 0\n",
    "    result = v1 + v2\n",
    "    return result\n",
    "\n",
    "## 전역 변수 선언 부분 ##\n",
    "hap = 0\n",
    "\n",
    "## 메인 코드 부분 ##\n",
    "hap = plus(100,200)\n",
    "print(\"100과 200의 plus() 함수 결과는 %d\" %hap)"
   ]
  },
  {
   "cell_type": "code",
   "execution_count": 7,
   "id": "5dcc9cb6",
   "metadata": {},
   "outputs": [
    {
     "name": "stdout",
     "output_type": "stream",
     "text": [
      "계산을 입력하세요(+, -, *, /) : +\n",
      "첫 번째 수를 입력하세요 : 15\n",
      "두 번째 수를 입력하세요 : 16\n",
      "## 계산기 : 15 + 16 = 31\n"
     ]
    }
   ],
   "source": [
    "## 함수 선언 부분 ##\n",
    "def calc(v1, v2, op):\n",
    "    result = 0\n",
    "    if op == '+':\n",
    "        result = v1 + v2\n",
    "    elif op == '-':\n",
    "        result = v1 - v2\n",
    "    elif op == '*':\n",
    "        result = v1 * v2\n",
    "    elif op == '/':\n",
    "        result = v1 / v2\n",
    "    \n",
    "    return result\n",
    "\n",
    "## 전역 변수 선언 부분 ##\n",
    "res = 0\n",
    "var1, var2, oper = 0,0,\"\"\n",
    "\n",
    "## 메인 코드 부분 ##\n",
    "oper = input(\"계산을 입력하세요(+, -, *, /) : \")\n",
    "var1 = int(input(\"첫 번째 수를 입력하세요 : \"))\n",
    "var2 = int(input(\"두 번째 수를 입력하세요 : \"))\n",
    "\n",
    "res = calc(var1, var2, oper)\n",
    "\n",
    "print(\"## 계산기 : %d %s %d = %d\" % (var1, oper, var2, res))"
   ]
  },
  {
   "cell_type": "code",
   "execution_count": 20,
   "id": "8e76bf21",
   "metadata": {},
   "outputs": [
    {
     "name": "stdout",
     "output_type": "stream",
     "text": [
      "첫 번째 수를 입력하세요 : 5\n",
      "계산을 입력하세요(+, -, *, /, **) : /\n",
      "두 번째 수를 입력하세요 : 0\n",
      "0으로 나누면 안됩니다.\n"
     ]
    }
   ],
   "source": [
    "## 함수 선언 부분 ##\n",
    "def calc(v1, v2, op):\n",
    "    result = 0\n",
    "    try:\n",
    "        if op == '+':\n",
    "            result = v1 + v2\n",
    "        elif op == '-':\n",
    "            result = v1 - v2\n",
    "        elif op == '*':\n",
    "            result = v1 * v2\n",
    "        elif op == '/':\n",
    "            result = v1 / v2\n",
    "        elif op == '**':\n",
    "            result = v1 ** v2\n",
    "        else:\n",
    "            raise ValueError\n",
    "    \n",
    "    except:\n",
    "        print(\"오류 발생\")\n",
    "    return result\n",
    "\n",
    "## 전역 변수 선언 부분 ##\n",
    "res = 0\n",
    "var1, var2, oper = 0,0,\"\"\n",
    "\n",
    "## 메인 코드 부분 ##\n",
    "var1 = int(input(\"첫 번째 수를 입력하세요 : \"))\n",
    "oper = input(\"계산을 입력하세요(+, -, *, /, **) : \")\n",
    "var2 = int(input(\"두 번째 수를 입력하세요 : \"))\n",
    "\n",
    "if var2 == 0:\n",
    "    print(\"0으로 나누면 안됩니다.\")\n",
    "else:  \n",
    "    res = calc(var1, var2, oper)\n",
    "\n",
    "    print(\"## 계산기 : %d %s %d = %d\" % (var1, oper, var2, res))"
   ]
  },
  {
   "cell_type": "code",
   "execution_count": 21,
   "id": "377a4f6c",
   "metadata": {},
   "outputs": [
    {
     "name": "stdout",
     "output_type": "stream",
     "text": [
      "func1()에서 a값 10\n",
      "func2()에서 a값 20\n"
     ]
    }
   ],
   "source": [
    "def func1():\n",
    "    a = 10 # 지역 변수\n",
    "    print(\"func1()에서 a값 %d\" % a)\n",
    "    \n",
    "def func2():\n",
    "    print(\"func2()에서 a값 %d\" % a)\n",
    "    \n",
    "## 전역 변수 선언 부분 ##\n",
    "a = 20       \n",
    "\n",
    "## 메인 코드 부분 ##\n",
    "func1()\n",
    "func2()"
   ]
  },
  {
   "cell_type": "code",
   "execution_count": 22,
   "id": "c8c521e2",
   "metadata": {},
   "outputs": [
    {
     "name": "stdout",
     "output_type": "stream",
     "text": [
      "multi()에서 돌려준 값 ==> 300, -100\n"
     ]
    }
   ],
   "source": [
    "## 함수 선언 부분 ##\n",
    "def multi(v1,v2):\n",
    "    retList = []      # 반환할 리스트\n",
    "    res1 = v1 + v2\n",
    "    res2 = v1 - v2\n",
    "    retList.append(res1)\n",
    "    retList.append(res2)\n",
    "    return retList\n",
    "\n",
    "## 전역 변수 선언 부분 ##\n",
    "myList = []\n",
    "hap, sub = 0,0\n",
    "\n",
    "## 메인 코드 부분 ##\n",
    "myList = multi(100,200)\n",
    "hap = myList[0]\n",
    "sub = myList[1]\n",
    "print(\"multi()에서 돌려준 값 ==> %d, %d\" %(hap, sub))"
   ]
  },
  {
   "cell_type": "code",
   "execution_count": 28,
   "id": "e694e587",
   "metadata": {},
   "outputs": [
    {
     "name": "stdout",
     "output_type": "stream",
     "text": [
      "매개변수가 2개인 함수를 호출한 결과 ==> 30\n",
      "매개변수가 3개인 함수를 호출한 결과 ==> 60\n"
     ]
    }
   ],
   "source": [
    "# 함수 선언\n",
    "def para2_func(v1,v2):\n",
    "    result = 0     \n",
    "    result = v1 + v2\n",
    "    return result\n",
    "\n",
    "def para3_func(v1,v2,v3):\n",
    "    result = 0     \n",
    "    result = v1 + v2 + v3\n",
    "    return result\n",
    "\n",
    "# 전역 변수 선언\n",
    "hap = 0\n",
    "\n",
    "# 메인 코드\n",
    "hap = para2_func(10,20)\n",
    "print(\"매개변수가 2개인 함수를 호출한 결과 ==> %d\" % hap)\n",
    "hap = para3_func(10,20,30)\n",
    "print(\"매개변수가 3개인 함수를 호출한 결과 ==> %d\" % hap)"
   ]
  },
  {
   "cell_type": "code",
   "execution_count": 25,
   "id": "3077e20a",
   "metadata": {},
   "outputs": [
    {
     "name": "stdout",
     "output_type": "stream",
     "text": [
      "매개 변수가 2개인 함수를 호출한 결과 ==> 30\n",
      "매개 변수가 3개인 함수를 호출한 결과 ==> 60\n"
     ]
    }
   ],
   "source": [
    "## 함수 선언 부분 ##\n",
    "def para_func(v1, v2, v3 = 0):\n",
    "    result = 0\n",
    "    result = v1 + v2 + v3\n",
    "    return result\n",
    "\n",
    "## 전역 변수 선언 부분 ##\n",
    "hap = 0\n",
    "\n",
    "## 메인 코드 부분 ##\n",
    "hap = para_func(10, 20)\n",
    "print(\"매개 변수가 2개인 함수를 호출한 결과 ==> %d\" % hap)\n",
    "hap = para_func(10, 20, 30)\n",
    "print(\"매개 변수가 3개인 함수를 호출한 결과 ==> %d\" % hap)\n"
   ]
  },
  {
   "cell_type": "code",
   "execution_count": 30,
   "id": "e479b091",
   "metadata": {},
   "outputs": [
    {
     "name": "stdout",
     "output_type": "stream",
     "text": [
      "매개변수가 2개인 함수를 호출한 결과 ==> 30\n",
      "매개변수가 3개인 함수를 호출한 결과 ==> 60\n"
     ]
    }
   ],
   "source": [
    "# 함수 선언 부분 ##\n",
    "def para_func(*para):\n",
    "    result = 0\n",
    "    for num in para : \n",
    "        result = result + num\n",
    "        \n",
    "    return result\n",
    "\n",
    "# 전역 변수 선언\n",
    "hap = 0\n",
    "\n",
    "# 메인 코드\n",
    "hap = para_func(10, 20)\n",
    "print(\"매개변수가 2개인 함수를 호출한 결과 ==> %d\" % hap)\n",
    "hap = para_func(10, 20, 30)\n",
    "print(\"매개변수가 3개인 함수를 호출한 결과 ==> %d\" % hap)"
   ]
  },
  {
   "cell_type": "code",
   "execution_count": 40,
   "id": "7ec1493e",
   "metadata": {},
   "outputs": [],
   "source": [
    "from myTurtle import *\n",
    "import turtle\n",
    "\n",
    "# 전역 변수\n",
    "inStr = ''\n",
    "swidth, sheight = 300, 300\n",
    "tX, tY, tAngle, tSize = [0]*4\n",
    "\n",
    "# 메인 코드\n",
    "turtle.title ('거북이 글자 쓰기 (모듈버전)')\n",
    "turtle.shape('turtle')\n",
    "turtle.setup(width=swidth+50, height=sheight +50)\n",
    "turtle.screensize(swidth, sheight)\n",
    "turtle.penup()\n",
    "turtle.speed(5)\n",
    "\n",
    "inStr = getString()\n",
    "\n",
    "for ch in inStr : \n",
    "    tX, tY, tAngle, tSize = getXYAS(swidth, sheight)\n",
    "    turtle.pencolor(getRGB())\n",
    "    \n",
    "    turtle.goto(tX,tY)\n",
    "    turtle.left(tAngle)\n",
    "    \n",
    "    turtle.write(ch,font=('맑은고딕',tSize, 'bold'))\n",
    "    \n",
    "turtle.done()"
   ]
  },
  {
   "cell_type": "code",
   "execution_count": 43,
   "id": "a004a052",
   "metadata": {},
   "outputs": [
    {
     "name": "stdout",
     "output_type": "stream",
     "text": [
      "하하하하하하하하하하하하하하하하하하하하하하하하하하하하하하하하하하하하하하하하하하하하하하하하하하하하하하하하하하하하하하하하하하하하하하하하하하하하하하하하하하하하하하하하하하하하하하하하하하하하하하하하하하하하하하하하하하하하하하하하하하하하하하하하하하하하하하하하하하하하하하하하하하하하하하하하하하하하하하하하하하하하하하하하하하하하하하하하하하하하하하하하하하하하하하하하하하하하하하하하하하하하하하하하하하하하하하하하하하하하하하하하하하하하하하하하하하하하하하하하하하하하하하하하하하하하하하하하하하하하하하하하하하하하하하하하하하하하하하하하하하하하하하하하하하하하하하하하하하하하하하하하하하하하하하하하하하하하하하하하하하하하하하하하하하하하하하하하하하하하하하하하하하하하하하하하하하하하하하하하하하하하하하하하하하하하하하하하하하하하하하하하하하하하하하하하하하하하하하하하하하하하하하하하하하하하하하하하하하하하하하하하하하하하하하하하하하하하하하하하하하하하하하하하하하하하하하하하하하하하하하하하하하하하하하하하하하하하하하하하하하하하하하하하하하하하하하하하하하하하하하하하하하하하하하하하하하하하하하하하하하하하하하하하하하하하하하하하하하하하하하하하하하하하하하하하하하하하하하하하하하하하하하하하하하하하하하하하하하하하하하하하하하하하하하하하하하하하하하하하하하하하하하하하하하하하하하하하하하하하하하하하하하하하하하하하하하하하하하하하하하하하하하하하하하하하하하하하하하하하하하하하하하하하하하하하하하하하하하하하하하하하하하하하하하하하하하하하하하하하하하하하하하하하하하하하하하하하하하하하하하하하하하하하하하하하하하하하하하하하하하하하하하하하하하하하하하하하하하하하하하하하하하하하하하하하하하하하하하하하하하하하하하하하하하하하하하하하하하하하하하하하하하하하하하하하하하하하하하하하하하하하하하하하하하하하하하하하하하하하하하하하하하하하하하하하하하하하하하하하하하하하하하하하하하하하하하하하하하하하하하하하하하하하하하하하하하하하하하하하하하하하하하하하하하하하하하하하하하하하하하하하하하하하하하하하하하하하하하하하하하하하하하하하하하하하하하하하하하하하하하하하하하하하하하하하하하하하하하하하하하하하하하하하하하하하하하하하하하하하하하하하하하하하하하하하하하하하하하하하하하하하하하하하하하하하하하하하하하하하하하하하하하하하하하하하하하하하하하하하하하하하하하하하하하하하하하하하하하하하하하하하하하하하하하하하하하하하하하하하하하하하하하하하하하하하하하하하하하하하하하하하하하하하하하하하하하하하하하하하하하하하하하하하하하하하하하하하하하하하하하하하하하하하하하하하하하하하하하하하하하하하하하하하하하하하하하하하하하하하하하하하하하하하하하하하하하하하하하하하하하하하하하하하하하하하하하하하하하하하하하하하하하하하하하하하하하하하하하하하하하하하하하하하하하하하하하하하하하하하하하하하하하하하하하하하하하하하하하하하하하하하하하하하하하하하하하하하하하하하하하하하하하하하하하하하하하하하하하하하하하하하하하하하하하하하하하하하하하하하하하하하하하하하하하하하하하하하하하하하하하하하하하하하하하하하하하하하하하하하하하하하하하하하하하하하하하하하하하하하하하하하하하하하하하하하하하하하하하하하하하하하하하하하하하하하하하하하하하하하하하하하하하하하하하하하하하하하하하하하하하하하하하하하하하하하하하하하하하하하하하하하하하하하하하하하하하하하하하하하하하하하하하하하하하하하하하하하하하하하하하하하하하하하하하하하하하하하하하하하하하하하하하하하하하하하하하하하하하하하하하하하하하하하하하하하하하하하하하하하하하하하하하하하하하하하하하하하하하하하하하하하하하하하하하하하하하하하하하하하하하하하하하하하하하하하하하하하하하하하하하하하하하하하하하하하하하하하하하하하하하하하하하하하하하하하하하하하하하하하하하하하하하하하하하하하하하하하하하하하하하하하하하하하하하하하하하하하하하하하하하하하하하하하하하하하하하하하하하하하하하하하하하하하하하하하하하하하하하하하하하하하하하하하하하하하하하하하하하하하하하하하하하하하하하하하하하하하하하하하하하하하하하하하하하하하하하하하하하하하하하하하하하하하하하하하하하하하하하하하하하하하하하하하하하하하하하하하하하하하하하하하하하하하하하하하하하하하하하하하하하하하하하하하하하하하하하하하하하하하하하하하하하하하하하하하하하하하하하하하하하하하하하하하하하하하하하하하하하하하하하하하하하하하하하하하하하하하하하하하하하하하하하하하하하하하하하하하하하하하하하하하하하하하하하하하하하하하하하하하하하하하하하하하하하하하하하하하하하하하하하하하하하하하하하하하하하하하하하하하하하하하하하하하하하하하하하하하하하하하하하하하하하하하하하하하하하하하하하하하하하하하하하하하하하하하하하하하하하하하하하하하하하하하하하하하하하하하하하하하하하하하하하하하하하하하하하하하하하하하하하하하하하하하하하하하하하하하하하하하하하하하하하하하하하하하하하하하하하하하하하하하하하하하하하하하하하하하하하하하하하하하하하하하하하하하하하하하하하하하하하하하하하하하하하하하하하하하하하하하하하하하하하하하하하하하하하하하하하하하하하하하하하하하하하하하하하하하하하하하하하하하하하하하하하하하하하하하하하하하하하하하하하하하하하하하하하하하하하하하하하하하하하하하하하하하하하하하하하하하하하하하하하하하하하하하하하하하하하하하하하하하하하하하하하하하하하하하하하하하하하하하하하하하하하하하하하하하하하하하하하하하하하하하하하하하하하하하하하하하하하하하하하하하하하하하하하하하하하하하하하하하하하하하하하하하하하하하하하하하하하하하하하하하하하하하하하하하하하하하하하하하하하하하하하하하하하하하하하하하하하하하하하하하하하하하하하하하하하하하하하하하하하하하하하하하하하하하하하하하하하하하하하하하하하하하하하하하하하하하하하하하하하하하하하하하하하하하하하하하하하하하하하하하하하하하하하하하하하하하하하하하하하하하하하하하하하하하하하하하하하하하하하하하하하하하하하하하하하하하하하하하하하하하하하하하하하하하하하하하하하하하하하하하하하하하하하하하하하하하하하하하하하하하하하하하하하하하하하하하하하하하하하하하하하하하하하하하하하하하하하하하하하하하하하하하하하하하하하하하하하하하하하하하하하하하하하하하하하하하하하하하하하하하하하하하하하하하하하하하하하하하하하하하하하하하하하하하하하하하하하하하하하하하하하하하하하하하하하하하하하하하하하하하하하하하하하하하하하하하하하하하하하하하하하하하하하하하하하하하하하하하하하하하하하하하하하하하하하하하하하하하하하하하하하하하하하하하하하하하하하하하하하하하하하하하하하하하하하하하하하하하하하하하하하하하하"
     ]
    },
    {
     "ename": "RecursionError",
     "evalue": "maximum recursion depth exceeded while calling a Python object",
     "output_type": "error",
     "traceback": [
      "\u001b[1;31m---------------------------------------------------------------------------\u001b[0m",
      "\u001b[1;31mRecursionError\u001b[0m                            Traceback (most recent call last)",
      "\u001b[1;32m<ipython-input-43-c479fa0037ed>\u001b[0m in \u001b[0;36m<module>\u001b[1;34m\u001b[0m\n\u001b[0;32m      2\u001b[0m     \u001b[0mprint\u001b[0m\u001b[1;33m(\u001b[0m\u001b[1;34m'하'\u001b[0m\u001b[1;33m,\u001b[0m \u001b[0mend\u001b[0m \u001b[1;33m=\u001b[0m \u001b[1;34m''\u001b[0m\u001b[1;33m)\u001b[0m\u001b[1;33m\u001b[0m\u001b[1;33m\u001b[0m\u001b[0m\n\u001b[0;32m      3\u001b[0m     \u001b[0mselfCall\u001b[0m\u001b[1;33m(\u001b[0m\u001b[1;33m)\u001b[0m\u001b[1;33m\u001b[0m\u001b[1;33m\u001b[0m\u001b[0m\n\u001b[1;32m----> 4\u001b[1;33m \u001b[0mselfCall\u001b[0m\u001b[1;33m(\u001b[0m\u001b[1;33m)\u001b[0m\u001b[1;33m\u001b[0m\u001b[1;33m\u001b[0m\u001b[0m\n\u001b[0m",
      "\u001b[1;32m<ipython-input-43-c479fa0037ed>\u001b[0m in \u001b[0;36mselfCall\u001b[1;34m()\u001b[0m\n\u001b[0;32m      1\u001b[0m \u001b[1;32mdef\u001b[0m \u001b[0mselfCall\u001b[0m\u001b[1;33m(\u001b[0m\u001b[1;33m)\u001b[0m\u001b[1;33m:\u001b[0m\u001b[1;33m\u001b[0m\u001b[1;33m\u001b[0m\u001b[0m\n\u001b[0;32m      2\u001b[0m     \u001b[0mprint\u001b[0m\u001b[1;33m(\u001b[0m\u001b[1;34m'하'\u001b[0m\u001b[1;33m,\u001b[0m \u001b[0mend\u001b[0m \u001b[1;33m=\u001b[0m \u001b[1;34m''\u001b[0m\u001b[1;33m)\u001b[0m\u001b[1;33m\u001b[0m\u001b[1;33m\u001b[0m\u001b[0m\n\u001b[1;32m----> 3\u001b[1;33m     \u001b[0mselfCall\u001b[0m\u001b[1;33m(\u001b[0m\u001b[1;33m)\u001b[0m\u001b[1;33m\u001b[0m\u001b[1;33m\u001b[0m\u001b[0m\n\u001b[0m\u001b[0;32m      4\u001b[0m \u001b[0mselfCall\u001b[0m\u001b[1;33m(\u001b[0m\u001b[1;33m)\u001b[0m\u001b[1;33m\u001b[0m\u001b[1;33m\u001b[0m\u001b[0m\n",
      "... last 1 frames repeated, from the frame below ...\n",
      "\u001b[1;32m<ipython-input-43-c479fa0037ed>\u001b[0m in \u001b[0;36mselfCall\u001b[1;34m()\u001b[0m\n\u001b[0;32m      1\u001b[0m \u001b[1;32mdef\u001b[0m \u001b[0mselfCall\u001b[0m\u001b[1;33m(\u001b[0m\u001b[1;33m)\u001b[0m\u001b[1;33m:\u001b[0m\u001b[1;33m\u001b[0m\u001b[1;33m\u001b[0m\u001b[0m\n\u001b[0;32m      2\u001b[0m     \u001b[0mprint\u001b[0m\u001b[1;33m(\u001b[0m\u001b[1;34m'하'\u001b[0m\u001b[1;33m,\u001b[0m \u001b[0mend\u001b[0m \u001b[1;33m=\u001b[0m \u001b[1;34m''\u001b[0m\u001b[1;33m)\u001b[0m\u001b[1;33m\u001b[0m\u001b[1;33m\u001b[0m\u001b[0m\n\u001b[1;32m----> 3\u001b[1;33m     \u001b[0mselfCall\u001b[0m\u001b[1;33m(\u001b[0m\u001b[1;33m)\u001b[0m\u001b[1;33m\u001b[0m\u001b[1;33m\u001b[0m\u001b[0m\n\u001b[0m\u001b[0;32m      4\u001b[0m \u001b[0mselfCall\u001b[0m\u001b[1;33m(\u001b[0m\u001b[1;33m)\u001b[0m\u001b[1;33m\u001b[0m\u001b[1;33m\u001b[0m\u001b[0m\n",
      "\u001b[1;31mRecursionError\u001b[0m: maximum recursion depth exceeded while calling a Python object"
     ]
    }
   ],
   "source": [
    "def selfCall():\n",
    "    print('하', end = '')\n",
    "    selfCall()\n",
    "selfCall()"
   ]
  },
  {
   "cell_type": "code",
   "execution_count": 44,
   "id": "44c14d41",
   "metadata": {},
   "outputs": [
    {
     "name": "stdout",
     "output_type": "stream",
     "text": [
      "24\n",
      "3628800\n"
     ]
    }
   ],
   "source": [
    "def factorial(num):\n",
    "    if num <= 1:\n",
    "        return num\n",
    "    else:\n",
    "        return num * factorial(num-1)\n",
    "print(factorial(4))\n",
    "print(factorial(10))"
   ]
  },
  {
   "cell_type": "code",
   "execution_count": 45,
   "id": "b1330d06",
   "metadata": {},
   "outputs": [
    {
     "name": "stdout",
     "output_type": "stream",
     "text": [
      "[1, 2, 3]\n"
     ]
    }
   ],
   "source": [
    "def genFunc():\n",
    "    yield 1\n",
    "    yield 2\n",
    "    yield 3\n",
    "print(list(genFunc()))"
   ]
  },
  {
   "cell_type": "code",
   "execution_count": 46,
   "id": "b0bcbacf",
   "metadata": {},
   "outputs": [
    {
     "name": "stdout",
     "output_type": "stream",
     "text": [
      "0\n",
      "제너레이터 진행 중\n",
      "1\n",
      "제너레이터 진행 중\n",
      "2\n",
      "제너레이터 진행 중\n",
      "3\n",
      "제너레이터 진행 중\n",
      "4\n",
      "제너레이터 진행 중\n"
     ]
    }
   ],
   "source": [
    "def genFunc(num):\n",
    "    for i in range(0, num):\n",
    "        yield i\n",
    "        print('제너레이터 진행 중')\n",
    "for data in genFunc(5):\n",
    "    print(data)"
   ]
  },
  {
   "cell_type": "code",
   "execution_count": 47,
   "id": "c4082b3e",
   "metadata": {},
   "outputs": [
    {
     "name": "stdout",
     "output_type": "stream",
     "text": [
      "현재 운영체제: nt\n",
      "현재 폴더: C:\\Users\\admin\n",
      "현재 폴더 내부의 요소: ['.bash_history', '.dotnet', '.gitconfig', '.idlerc', '.ipynb_checkpoints', '.ipython', '.jupyter', '.nuget', '.VirtualBox', '20210714.ipynb', '20210715.ipynb', '20210716.ipynb', '20210719.ipynb', '3D Objects', 'anaconda3', 'AppData', 'Application Data', 'Contacts', 'Cookies', 'date.py', 'Desktop', 'Documents', 'Downloads', 'Favorites', 'IntelGraphicsProfiles', 'Links', 'Local Settings', 'Music', 'My Documents', 'myTurtle.py', 'NetHood', 'NTUSER.DAT', 'ntuser.dat.LOG1', 'ntuser.dat.LOG2', 'NTUSER.DAT{5a8c6b7d-a4b4-11eb-a62c-002b67289458}.TM.blf', 'NTUSER.DAT{5a8c6b7d-a4b4-11eb-a62c-002b67289458}.TMContainer00000000000000000001.regtrans-ms', 'NTUSER.DAT{5a8c6b7d-a4b4-11eb-a62c-002b67289458}.TMContainer00000000000000000002.regtrans-ms', 'ntuser.ini', 'OneDrive', 'Pictures', 'PrintHood', 'python', 'Recent', 'Saved Games', 'Searches', 'SendTo', 'source', 'Templates', 'Videos', 'VirtualBox VMs', '__pycache__', '시작 메뉴']\n"
     ]
    },
    {
     "data": {
      "text/plain": [
       "0"
      ]
     },
     "execution_count": 47,
     "metadata": {},
     "output_type": "execute_result"
    }
   ],
   "source": [
    "import os\n",
    "\n",
    "print(\"현재 운영체제:\", os.name)\n",
    "print(\"현재 폴더:\"    , os.getcwd())\n",
    "print(\"현재 폴더 내부의 요소:\", os.listdir())\n",
    "\n",
    "os.mkdir(\"hello\")\n",
    "os.rmdir(\"hello\")\n",
    "\n",
    "with open(\"original.txt\", \"w\") as file:\n",
    "    file.write(\"hello\")\n",
    "os.rename(\"original.txt\", \"new.txt\")\n",
    "\n",
    "os.remove(\"new.txt\")\n",
    "\n",
    "os.system(\"dir\")"
   ]
  },
  {
   "cell_type": "code",
   "execution_count": 48,
   "id": "26a03b47",
   "metadata": {},
   "outputs": [
    {
     "name": "stdout",
     "output_type": "stream",
     "text": [
      "도시: 서울\n",
      "날씨: 구름많음\n",
      "최저기온: 26\n",
      "최고기온: 36\n",
      "\n",
      "도시: 인천\n",
      "날씨: 구름많음\n",
      "최저기온: 25\n",
      "최고기온: 34\n",
      "\n",
      "도시: 수원\n",
      "날씨: 구름많음\n",
      "최저기온: 25\n",
      "최고기온: 36\n",
      "\n",
      "도시: 파주\n",
      "날씨: 구름많음\n",
      "최저기온: 23\n",
      "최고기온: 34\n",
      "\n",
      "도시: 이천\n",
      "날씨: 구름많음\n",
      "최저기온: 22\n",
      "최고기온: 34\n",
      "\n",
      "도시: 평택\n",
      "날씨: 구름많음\n",
      "최저기온: 23\n",
      "최고기온: 34\n",
      "\n",
      "도시: 춘천\n",
      "날씨: 구름많음\n",
      "최저기온: 23\n",
      "최고기온: 35\n",
      "\n",
      "도시: 원주\n",
      "날씨: 구름많음\n",
      "최저기온: 23\n",
      "최고기온: 34\n",
      "\n",
      "도시: 강릉\n",
      "날씨: 구름많음\n",
      "최저기온: 24\n",
      "최고기온: 33\n",
      "\n",
      "도시: 대전\n",
      "날씨: 구름많음\n",
      "최저기온: 25\n",
      "최고기온: 35\n",
      "\n",
      "도시: 세종\n",
      "날씨: 구름많음\n",
      "최저기온: 24\n",
      "최고기온: 35\n",
      "\n",
      "도시: 홍성\n",
      "날씨: 구름많음\n",
      "최저기온: 23\n",
      "최고기온: 34\n",
      "\n",
      "도시: 청주\n",
      "날씨: 구름많음\n",
      "최저기온: 24\n",
      "최고기온: 34\n",
      "\n",
      "도시: 충주\n",
      "날씨: 구름많음\n",
      "최저기온: 22\n",
      "최고기온: 34\n",
      "\n",
      "도시: 영동\n",
      "날씨: 구름많음\n",
      "최저기온: 21\n",
      "최고기온: 34\n",
      "\n",
      "도시: 광주\n",
      "날씨: 구름많음\n",
      "최저기온: 24\n",
      "최고기온: 34\n",
      "\n",
      "도시: 목포\n",
      "날씨: 구름많음\n",
      "최저기온: 25\n",
      "최고기온: 32\n",
      "\n",
      "도시: 여수\n",
      "날씨: 구름많음\n",
      "최저기온: 25\n",
      "최고기온: 31\n",
      "\n",
      "도시: 순천\n",
      "날씨: 구름많음\n",
      "최저기온: 24\n",
      "최고기온: 33\n",
      "\n",
      "도시: 광양\n",
      "날씨: 구름많음\n",
      "최저기온: 24\n",
      "최고기온: 32\n",
      "\n",
      "도시: 나주\n",
      "날씨: 구름많음\n",
      "최저기온: 23\n",
      "최고기온: 34\n",
      "\n",
      "도시: 전주\n",
      "날씨: 구름많음\n",
      "최저기온: 23\n",
      "최고기온: 35\n",
      "\n",
      "도시: 군산\n",
      "날씨: 구름많음\n",
      "최저기온: 24\n",
      "최고기온: 33\n",
      "\n",
      "도시: 정읍\n",
      "날씨: 구름많음\n",
      "최저기온: 22\n",
      "최고기온: 34\n",
      "\n",
      "도시: 남원\n",
      "날씨: 구름많음\n",
      "최저기온: 22\n",
      "최고기온: 34\n",
      "\n",
      "도시: 고창\n",
      "날씨: 구름많음\n",
      "최저기온: 23\n",
      "최고기온: 33\n",
      "\n",
      "도시: 무주\n",
      "날씨: 구름많음\n",
      "최저기온: 21\n",
      "최고기온: 34\n",
      "\n",
      "도시: 부산\n",
      "날씨: 구름많음\n",
      "최저기온: 25\n",
      "최고기온: 32\n",
      "\n",
      "도시: 울산\n",
      "날씨: 구름많음\n",
      "최저기온: 24\n",
      "최고기온: 31\n",
      "\n",
      "도시: 창원\n",
      "날씨: 구름많음\n",
      "최저기온: 23\n",
      "최고기온: 33\n",
      "\n",
      "도시: 진주\n",
      "날씨: 구름많음\n",
      "최저기온: 23\n",
      "최고기온: 34\n",
      "\n",
      "도시: 거창\n",
      "날씨: 구름많음\n",
      "최저기온: 21\n",
      "최고기온: 33\n",
      "\n",
      "도시: 통영\n",
      "날씨: 구름많음\n",
      "최저기온: 25\n",
      "최고기온: 33\n",
      "\n",
      "도시: 대구\n",
      "날씨: 구름많음\n",
      "최저기온: 23\n",
      "최고기온: 33\n",
      "\n",
      "도시: 안동\n",
      "날씨: 구름많음\n",
      "최저기온: 22\n",
      "최고기온: 33\n",
      "\n",
      "도시: 포항\n",
      "날씨: 구름많음\n",
      "최저기온: 25\n",
      "최고기온: 30\n",
      "\n",
      "도시: 경주\n",
      "날씨: 구름많음\n",
      "최저기온: 23\n",
      "최고기온: 32\n",
      "\n",
      "도시: 울진\n",
      "날씨: 구름많음\n",
      "최저기온: 23\n",
      "최고기온: 28\n",
      "\n",
      "도시: 울릉도\n",
      "날씨: 구름많음\n",
      "최저기온: 24\n",
      "최고기온: 28\n",
      "\n",
      "도시: 제주\n",
      "날씨: 구름많음\n",
      "최저기온: 26\n",
      "최고기온: 33\n",
      "\n",
      "도시: 서귀포\n",
      "날씨: 구름많음\n",
      "최저기온: 26\n",
      "최고기온: 31\n",
      "\n"
     ]
    }
   ],
   "source": [
    "# 모듈을 읽어 들입니다.\n",
    "from urllib import request\n",
    "from bs4 import BeautifulSoup\n",
    "\n",
    "# urlopen() 함수로 기상청의 전국 날씨를 읽습니다.\n",
    "target = request.urlopen(\"http://www.kma.go.kr/weather/forecast/mid-term-rss3.jsp?stnId=108\")\n",
    "\n",
    "# BeautifulSoup을 사용해 웹 페이지를 분석합니다.\n",
    "soup = BeautifulSoup(target, \"html.parser\")\n",
    "\n",
    "# location 태그를 찾습니다.\n",
    "for location in soup.select(\"location\"):\n",
    "    # 내부의 city, wf, tmn, tms 태그를 찾아 출력합니다.\n",
    "    print(\"도시:\", location.select_one(\"city\").string)\n",
    "    print(\"날씨:\", location.select_one(\"wf\").string)\n",
    "    print(\"최저기온:\", location.select_one(\"tmn\").string)\n",
    "    print(\"최고기온:\", location.select_one(\"tmx\").string)\n",
    "    print()"
   ]
  },
  {
   "cell_type": "code",
   "execution_count": 54,
   "id": "0cf447c3",
   "metadata": {},
   "outputs": [],
   "source": [
    "# 모듈을 읽어 들입니다.\n",
    "from flask import Flask\n",
    "from urllib import request\n",
    "from bs4 import BeautifulSoup\n",
    "\n",
    "# 웹 서버를 생성합니다.\n",
    "app = Flask(__name__)\n",
    "@app.route(\"/\")\n",
    "\n",
    "def hello():\n",
    "    # urlopen() 함수로 기상청의 전국 날씨를 읽습니다.\n",
    "    target = request.urlopen(\"http://www.kma.go.kr/weather/forecast/mid-term-rss3.jsp?stnId=108\")\n",
    "\n",
    "    # BeautifulSoup를 사용해 웹 페이지를 분석합니다.\n",
    "    soup = BeautifulSoup(target, \"html.parser\")\n",
    "\n",
    "    # location 태그를 찾습니다.\n",
    "    output = \"\"\n",
    "    for location in soup.select(\"location\"):\n",
    "        # 내부의 city, wf, tmn, tmx 태그를 찾아 출력합니다.\n",
    "        output += \"<h3>{}</h3>\".format(location.select_one(\"city\").string)\n",
    "        output += \"날씨: {}<br/>\".format(location.select_one(\"wf\").string)\n",
    "        output += \"최저/최고 기온: {}/{}\"\\\n",
    "            .format(\\\n",
    "                location.select_one(\"tmn\").string,\\\n",
    "                location.select_one(\"tmx\").string\\\n",
    "            )\n",
    "        output += \"<hr/>\"\n",
    "    return output"
   ]
  },
  {
   "cell_type": "code",
   "execution_count": 80,
   "id": "84ac1ec9",
   "metadata": {},
   "outputs": [
    {
     "name": "stdout",
     "output_type": "stream",
     "text": [
      "** 로또 추첨을 시작합니다. ** \n",
      "\n",
      "추첨된 로또 번호 ==> 3 8 10 20 21 41 "
     ]
    }
   ],
   "source": [
    "import random\n",
    "\n",
    "## 함수 선언 부분 ##\n",
    "def getNumber():\n",
    "    return random.randint(1,45)\n",
    "## 전역 변수 선언 부분 ##\n",
    "lotto = []\n",
    "num = 0\n",
    "\n",
    "## 메인 코드 부분 ##\n",
    "print(\"** 로또 추첨을 시작합니다. ** \\n\");\n",
    "\n",
    "while True:\n",
    "    num=getNumber()\n",
    "    if num not in lotto:\n",
    "        lotto.append(num)\n",
    "    \n",
    "    if len(lotto) == 6:\n",
    "        break\n",
    "    \n",
    "print(\"추첨된 로또 번호 ==> \", end = '')\n",
    "lotto.sort()\n",
    "for i in range(0,6):\n",
    "    print(\"%d \" % lotto[i], end = '')"
   ]
  },
  {
   "cell_type": "code",
   "execution_count": 67,
   "id": "0b5eed2b",
   "metadata": {},
   "outputs": [
    {
     "name": "stdout",
     "output_type": "stream",
     "text": [
      "밖에는 비가 옵니다.\n",
      "오늘 하루도\n",
      "고생하셨습니다~"
     ]
    }
   ],
   "source": [
    "inFp = None  # 입력 파일\n",
    "inStr = \"\"   # 읽어온 문지열\n",
    "\n",
    "inFp = open(\"C:/Users/admin/text02.txt\",\"r\")\n",
    "inStr = inFp.readline()\n",
    "print(inStr, end = \"\")\n",
    "\n",
    "inStr = inFp.readline()\n",
    "print(inStr, end = \"\")\n",
    "\n",
    "inStr = inFp.readline()\n",
    "print(inStr, end = \"\")\n",
    "\n",
    "inFp.close()"
   ]
  },
  {
   "cell_type": "code",
   "execution_count": 71,
   "id": "6b8690f5",
   "metadata": {},
   "outputs": [
    {
     "name": "stdout",
     "output_type": "stream",
     "text": [
      "밖에는 비가 옵니다.\n",
      "오늘 하루도\n",
      "고생하셨습니다~"
     ]
    }
   ],
   "source": [
    "inFp = None\n",
    "inStr = \"\"\n",
    "\n",
    "inFp = open(\"C:/Users/admin/text02.txt\",\"r\")\n",
    "\n",
    "while True:\n",
    "    inStr = inFp.readline()\n",
    "    if inStr == \"\" :\n",
    "        break;\n",
    "    print(inStr, end = \"\")\n",
    "\n",
    "inFp.close()"
   ]
  },
  {
   "cell_type": "code",
   "execution_count": 73,
   "id": "a885c122",
   "metadata": {},
   "outputs": [
    {
     "name": "stdout",
     "output_type": "stream",
     "text": [
      "['밖에는 비가 옵니다.\\n', '오늘 하루도\\n', '고생하셨습니다~']\n"
     ]
    }
   ],
   "source": [
    "inFp = None\n",
    "inStr = \"\"\n",
    "\n",
    "inFp = open(\"C:/Users/admin/text02.txt\",\"r\")\n",
    "\n",
    "inList = inFp.readlines()\n",
    "print(inList)\n",
    "\n",
    "inFp.close()\n"
   ]
  },
  {
   "cell_type": "code",
   "execution_count": 74,
   "id": "8f3da923",
   "metadata": {},
   "outputs": [
    {
     "name": "stdout",
     "output_type": "stream",
     "text": [
      "밖에는 비가 옵니다.\n",
      "오늘 하루도\n",
      "고생하셨습니다~"
     ]
    }
   ],
   "source": [
    "inFp = None\n",
    "inStr = \"\"\n",
    "\n",
    "inFp = open(\"C:/Users/admin/text02.txt\",\"r\")\n",
    "\n",
    "inList = inFp.readlines()\n",
    "for inStr in inList:\n",
    "    print(inStr, end=\"\")\n",
    "\n",
    "inFp.close()"
   ]
  },
  {
   "cell_type": "code",
   "execution_count": 79,
   "id": "3e54640c",
   "metadata": {},
   "outputs": [
    {
     "name": "stdout",
     "output_type": "stream",
     "text": [
      "1: 밖에는 비가 옵니다.\n",
      "2: 오늘 하루도\n",
      "3: 고생하셨습니다~"
     ]
    }
   ],
   "source": [
    "inFp = None\n",
    "inStr = \"\"\n",
    "count = 0\n",
    "\n",
    "inFp = open(\"C:/Users/admin/text02.txt\",\"r\")\n",
    "\n",
    "inList = inFp.readlines()\n",
    "for inStr in inList:\n",
    "    count += 1\n",
    "    print(\"%d: \" %count, end=\"\")\n",
    "    print(inStr, end=\"\")\n",
    "\n",
    "inFp.close()"
   ]
  }
 ],
 "metadata": {
  "kernelspec": {
   "display_name": "Python 3",
   "language": "python",
   "name": "python3"
  },
  "language_info": {
   "codemirror_mode": {
    "name": "ipython",
    "version": 3
   },
   "file_extension": ".py",
   "mimetype": "text/x-python",
   "name": "python",
   "nbconvert_exporter": "python",
   "pygments_lexer": "ipython3",
   "version": "3.8.8"
  }
 },
 "nbformat": 4,
 "nbformat_minor": 5
}
