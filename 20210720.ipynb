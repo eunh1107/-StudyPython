{
 "cells": [
  {
   "cell_type": "code",
   "execution_count": 5,
   "id": "1c8b1ffe",
   "metadata": {},
   "outputs": [
    {
     "name": "stdout",
     "output_type": "stream",
     "text": [
      "파일명을 입력하세요 : C:\\Windows\\win.ini\n",
      "; for 16-bit app support\n",
      "[fonts]\n",
      "[extensions]\n",
      "[mci extensions]\n",
      "[files]\n",
      "[Mail]\n",
      "MAPI=1\n"
     ]
    }
   ],
   "source": [
    "inFp = None\n",
    "fName, inList, inStr = \"\", [], \"\"\n",
    "\n",
    "fName = input(\"파일명을 입력하세요 : \")\n",
    "inFp = open(fName, \"r\")\n",
    "\n",
    "inList = inFp.readlines()\n",
    "for inStr in inList:\n",
    "    print(inStr, end=\"\")\n",
    "\n",
    "inFp.close()"
   ]
  },
  {
   "cell_type": "code",
   "execution_count": 7,
   "id": "3e34ee8e",
   "metadata": {},
   "outputs": [
    {
     "name": "stdout",
     "output_type": "stream",
     "text": [
      "파일명을 입력하세요 : C:/abc.txt\n",
      "C:/abc.txt 파일이 없습니다.\n"
     ]
    }
   ],
   "source": [
    "import os\n",
    "\n",
    "inFp = None\n",
    "fName, inList, inStr = \"\", [], \"\"\n",
    "\n",
    "fName = input(\"파일명을 입력하세요 : \")\n",
    "if os.path.exists(fName):\n",
    "    inFp = open(fName, \"r\")\n",
    "\n",
    "    inList = inFp.readlines()\n",
    "    for inStr in inList:\n",
    "        print(inStr, end=\"\")\n",
    "\n",
    "    inFp.close()\n",
    "else:\n",
    "    print(\"%s 파일이 없습니다.\"% fName)"
   ]
  },
  {
   "cell_type": "code",
   "execution_count": 8,
   "id": "b80d43d2",
   "metadata": {},
   "outputs": [
    {
     "name": "stdout",
     "output_type": "stream",
     "text": [
      "내용 입력 : 오늘도\n",
      "내용 입력 : 여름\n",
      "내용 입력 : 핫썸머\n",
      "내용 입력 : \n",
      "--- 정상적으로 파일에 씀 ---\n"
     ]
    }
   ],
   "source": [
    "outFp = None\n",
    "outStr = \"\"\n",
    "\n",
    "outFp = open(\"C:\\Temp\\data2.txt\", \"w\")\n",
    "\n",
    "while True:\n",
    "    outStr = input(\"내용 입력 : \")\n",
    "    if outStr != \"\":\n",
    "        outFp.writelines(outStr + \"\\n\")\n",
    "    else:\n",
    "        break\n",
    "        \n",
    "outFp.close()\n",
    "print(\"--- 정상적으로 파일에 씀 ---\")"
   ]
  },
  {
   "cell_type": "code",
   "execution_count": 9,
   "id": "61e797ad",
   "metadata": {},
   "outputs": [
    {
     "name": "stdout",
     "output_type": "stream",
     "text": [
      "--- 파일이 정상적으로 복사되었음 ---\n"
     ]
    }
   ],
   "source": [
    "inFp, outFp = None, None\n",
    "inStr = \"\"\n",
    "\n",
    "inFp = open(\"C:\\Windows\\win.ini\", \"r\")\n",
    "outFp = open(\"C:\\Temp\\data3.txt\",\"w\")\n",
    "\n",
    "inList = inFp.readlines()\n",
    "for inStr in inList:\n",
    "    outFp.writelines(inStr)\n",
    "    \n",
    "inFp.close()\n",
    "outFp.close()\n",
    "print(\"--- 파일이 정상적으로 복사되었음 ---\")"
   ]
  },
  {
   "cell_type": "code",
   "execution_count": null,
   "id": "20880b58",
   "metadata": {},
   "outputs": [],
   "source": [
    "inFp, outFp = None, None\n",
    "inStr = \"\"\n",
    "\n",
    "inFn = input(\"소스 파일 명과 경로를 입력하세요.\")\n",
    "outFn = input(\"타깃파일 명을 입력하세요\")\n",
    "\n",
    "inFp = open(inFn, \"r\")\n",
    "outFp = open(\"C:\\Temp\\\\\" + outFn + \".txt\",\"w\")\n",
    "\n",
    "inList = inFp.readlines()\n",
    "for inStr in inList:\n",
    "    outFp.writelines(inStr)\n",
    "    \n",
    "inFp.close()\n",
    "outFp.close()\n",
    "print(\"--- 파일이 정상적으로 복사되었음 ---\")"
   ]
  },
  {
   "cell_type": "code",
   "execution_count": 11,
   "id": "4df700aa",
   "metadata": {},
   "outputs": [
    {
     "name": "stdout",
     "output_type": "stream",
     "text": [
      "54028\n",
      "파\n"
     ]
    }
   ],
   "source": [
    "print(ord('파'))\n",
    "print(chr(54028))"
   ]
  },
  {
   "cell_type": "code",
   "execution_count": 12,
   "id": "161d60d6",
   "metadata": {},
   "outputs": [
    {
     "name": "stdout",
     "output_type": "stream",
     "text": [
      "54128\n",
      "파\n"
     ]
    }
   ],
   "source": [
    "num = ord('퍰')\n",
    "print(num)\n",
    "print(chr(num - 100))"
   ]
  },
  {
   "cell_type": "code",
   "execution_count": 14,
   "id": "f69a080a",
   "metadata": {},
   "outputs": [
    {
     "data": {
      "text/plain": [
       "'파'"
      ]
     },
     "execution_count": 14,
     "metadata": {},
     "output_type": "execute_result"
    }
   ],
   "source": [
    "num = ord('퍰')\n",
    "chr(num - 100)"
   ]
  },
  {
   "cell_type": "code",
   "execution_count": 22,
   "id": "735126de",
   "metadata": {},
   "outputs": [],
   "source": [
    "from tkinter import *\n",
    "\n",
    "## 변수 선언 부분 ##\n",
    "window = None\n",
    "\n",
    "canvas = None\n",
    "XSIZE, YSIZE = 256, 256\n",
    "\n",
    "## 메인 코드 부분 ##\n",
    "window = Tk()\n",
    "canvas = Canvas(window, height = XSIZE, width = YSIZE)\n",
    "\n",
    "canvas.pack()\n",
    "window.mainloop()"
   ]
  },
  {
   "cell_type": "code",
   "execution_count": 23,
   "id": "d26d8e9b",
   "metadata": {},
   "outputs": [],
   "source": [
    "from tkinter import *\n",
    "\n",
    "## 변수 선언 부분 ##\n",
    "window = None\n",
    "\n",
    "canvas = None\n",
    "XSIZE, YSIZE = 256, 256\n",
    "\n",
    "## 메인 코드 부분 ##\n",
    "window = Tk()\n",
    "canvas = Canvas(window, height = XSIZE, width = YSIZE)\n",
    "\n",
    "paper = PhotoImage(width = XSIZE, height = YSIZE)\n",
    "canvas.create_image((XSIZE / 2, YSIZE / 2), image = paper, state = \"normal\")\n",
    "\n",
    "canvas.pack()\n",
    "window.mainloop()"
   ]
  },
  {
   "cell_type": "code",
   "execution_count": 17,
   "id": "084f01f9",
   "metadata": {},
   "outputs": [
    {
     "ename": "TclError",
     "evalue": "image \"pyimage11\" doesn't exist",
     "output_type": "error",
     "traceback": [
      "\u001b[1;31m---------------------------------------------------------------------------\u001b[0m",
      "\u001b[1;31mTclError\u001b[0m                                  Traceback (most recent call last)",
      "\u001b[1;32m<ipython-input-17-96ad7eafdc27>\u001b[0m in \u001b[0;36m<module>\u001b[1;34m\u001b[0m\n\u001b[0;32m     38\u001b[0m \u001b[0mpaper\u001b[0m \u001b[1;33m=\u001b[0m \u001b[0mPhotoImage\u001b[0m\u001b[1;33m(\u001b[0m\u001b[0mwidth\u001b[0m \u001b[1;33m=\u001b[0m \u001b[0mXSIZE\u001b[0m\u001b[1;33m,\u001b[0m \u001b[0mheight\u001b[0m \u001b[1;33m=\u001b[0m \u001b[0mYSIZE\u001b[0m\u001b[1;33m)\u001b[0m\u001b[1;31m# master=Tk())\u001b[0m\u001b[1;33m\u001b[0m\u001b[1;33m\u001b[0m\u001b[0m\n\u001b[0;32m     39\u001b[0m \u001b[1;33m\u001b[0m\u001b[0m\n\u001b[1;32m---> 40\u001b[1;33m \u001b[0mcanvas\u001b[0m\u001b[1;33m.\u001b[0m\u001b[0mcreate_image\u001b[0m\u001b[1;33m(\u001b[0m\u001b[1;33m(\u001b[0m\u001b[0mXSIZE\u001b[0m \u001b[1;33m/\u001b[0m \u001b[1;36m2\u001b[0m\u001b[1;33m,\u001b[0m \u001b[0mYSIZE\u001b[0m \u001b[1;33m/\u001b[0m \u001b[1;36m2\u001b[0m\u001b[1;33m)\u001b[0m\u001b[1;33m,\u001b[0m \u001b[0mimage\u001b[0m \u001b[1;33m=\u001b[0m \u001b[0mpaper\u001b[0m\u001b[1;33m,\u001b[0m \u001b[0mstate\u001b[0m \u001b[1;33m=\u001b[0m \u001b[1;34m\"normal\"\u001b[0m\u001b[1;33m)\u001b[0m\u001b[1;33m\u001b[0m\u001b[1;33m\u001b[0m\u001b[0m\n\u001b[0m\u001b[0;32m     41\u001b[0m \u001b[1;33m\u001b[0m\u001b[0m\n\u001b[0;32m     42\u001b[0m \u001b[1;31m# 파일 --> 메모리\u001b[0m\u001b[1;33m\u001b[0m\u001b[1;33m\u001b[0m\u001b[1;33m\u001b[0m\u001b[0m\n",
      "\u001b[1;32m~\\anaconda3\\lib\\tkinter\\__init__.py\u001b[0m in \u001b[0;36mcreate_image\u001b[1;34m(self, *args, **kw)\u001b[0m\n\u001b[0;32m   2788\u001b[0m     \u001b[1;32mdef\u001b[0m \u001b[0mcreate_image\u001b[0m\u001b[1;33m(\u001b[0m\u001b[0mself\u001b[0m\u001b[1;33m,\u001b[0m \u001b[1;33m*\u001b[0m\u001b[0margs\u001b[0m\u001b[1;33m,\u001b[0m \u001b[1;33m**\u001b[0m\u001b[0mkw\u001b[0m\u001b[1;33m)\u001b[0m\u001b[1;33m:\u001b[0m\u001b[1;33m\u001b[0m\u001b[1;33m\u001b[0m\u001b[0m\n\u001b[0;32m   2789\u001b[0m         \u001b[1;34m\"\"\"Create image item with coordinates x1,y1.\"\"\"\u001b[0m\u001b[1;33m\u001b[0m\u001b[1;33m\u001b[0m\u001b[0m\n\u001b[1;32m-> 2790\u001b[1;33m         \u001b[1;32mreturn\u001b[0m \u001b[0mself\u001b[0m\u001b[1;33m.\u001b[0m\u001b[0m_create\u001b[0m\u001b[1;33m(\u001b[0m\u001b[1;34m'image'\u001b[0m\u001b[1;33m,\u001b[0m \u001b[0margs\u001b[0m\u001b[1;33m,\u001b[0m \u001b[0mkw\u001b[0m\u001b[1;33m)\u001b[0m\u001b[1;33m\u001b[0m\u001b[1;33m\u001b[0m\u001b[0m\n\u001b[0m\u001b[0;32m   2791\u001b[0m \u001b[1;33m\u001b[0m\u001b[0m\n\u001b[0;32m   2792\u001b[0m     \u001b[1;32mdef\u001b[0m \u001b[0mcreate_line\u001b[0m\u001b[1;33m(\u001b[0m\u001b[0mself\u001b[0m\u001b[1;33m,\u001b[0m \u001b[1;33m*\u001b[0m\u001b[0margs\u001b[0m\u001b[1;33m,\u001b[0m \u001b[1;33m**\u001b[0m\u001b[0mkw\u001b[0m\u001b[1;33m)\u001b[0m\u001b[1;33m:\u001b[0m\u001b[1;33m\u001b[0m\u001b[1;33m\u001b[0m\u001b[0m\n",
      "\u001b[1;32m~\\anaconda3\\lib\\tkinter\\__init__.py\u001b[0m in \u001b[0;36m_create\u001b[1;34m(self, itemType, args, kw)\u001b[0m\n\u001b[0;32m   2774\u001b[0m         \u001b[1;32melse\u001b[0m\u001b[1;33m:\u001b[0m\u001b[1;33m\u001b[0m\u001b[1;33m\u001b[0m\u001b[0m\n\u001b[0;32m   2775\u001b[0m             \u001b[0mcnf\u001b[0m \u001b[1;33m=\u001b[0m \u001b[1;33m{\u001b[0m\u001b[1;33m}\u001b[0m\u001b[1;33m\u001b[0m\u001b[1;33m\u001b[0m\u001b[0m\n\u001b[1;32m-> 2776\u001b[1;33m         return self.tk.getint(self.tk.call(\n\u001b[0m\u001b[0;32m   2777\u001b[0m             \u001b[0mself\u001b[0m\u001b[1;33m.\u001b[0m\u001b[0m_w\u001b[0m\u001b[1;33m,\u001b[0m \u001b[1;34m'create'\u001b[0m\u001b[1;33m,\u001b[0m \u001b[0mitemType\u001b[0m\u001b[1;33m,\u001b[0m\u001b[1;33m\u001b[0m\u001b[1;33m\u001b[0m\u001b[0m\n\u001b[0;32m   2778\u001b[0m             *(args + self._options(cnf, kw))))\n",
      "\u001b[1;31mTclError\u001b[0m: image \"pyimage11\" doesn't exist"
     ]
    }
   ],
   "source": [
    "from tkinter import *\n",
    "\n",
    "## 함수 선언 부분 ##\n",
    "def loadImage(fname):\n",
    "    global inImage, XSIZE, YSIZE\n",
    "    fp=open(fname, 'rb')\n",
    "    \n",
    "    for i in range(0, XSIZE):\n",
    "        tmpList = []\n",
    "        for k in range(0, YSIZE):\n",
    "            data = int(ord(fp.read(1)))\n",
    "            tmpList.append(data)\n",
    "        inImage.append(tmpList)\n",
    "        \n",
    "    fp.close()\n",
    "\n",
    "def displayImage(image):\n",
    "    global XSIZE, YSIZE\n",
    "    rgbString = \"\"\n",
    "    for i in range(0,XSIZE):\n",
    "        tmpString = \"\"\n",
    "        for k in range(0,YSIZE):\n",
    "            data = image[i][k]\n",
    "            tmpString += \"#%02x%02x%02x \" % (data, data, data)\n",
    "        rgbString += \"{\" + tmpString + \"} \"\n",
    "    paper.put(rgbString)\n",
    "## 변수 선언 부분 ##\n",
    "window = None\n",
    "canvas = None\n",
    "XSIZE, YSIZE = 256, 256\n",
    "inImage = []\n",
    "\n",
    "## 메인 코드 부분 ##\n",
    "window = Tk()\n",
    "window.title(\"흑백 사진 보기\")\n",
    "canvas = Canvas(window, height = XSIZE, width = YSIZE)\n",
    "#paper = PhotoImage(width = XSIZE, height = YSIZE)\n",
    "paper = PhotoImage(width = XSIZE, height = YSIZE)# master=Tk())\n",
    "\n",
    "canvas.create_image((XSIZE / 2, YSIZE / 2), image = paper, state = \"normal\")\n",
    "\n",
    "# 파일 --> 메모리\n",
    "filename = 'C:/Users/admin/StudyPython/Image/RAW/semi512.raw'\n",
    "loadImage(filename)\n",
    "\n",
    "# 메모리 --> 화면\n",
    "displayImage(inImage)\n",
    "\n",
    "canvas.pack()\n",
    "window.mainloop()"
   ]
  },
  {
   "cell_type": "code",
   "execution_count": 19,
   "id": "068e7266",
   "metadata": {},
   "outputs": [],
   "source": [
    "from tkinter import *\n",
    "\n",
    "window = Tk()\n",
    "\n",
    "## 이 부분에서 화면을 구성하고 처리 ##\n",
    "\n",
    "window.mainloop()"
   ]
  },
  {
   "cell_type": "code",
   "execution_count": 21,
   "id": "2922c3f2",
   "metadata": {},
   "outputs": [],
   "source": [
    "from tkinter import *\n",
    "\n",
    "window = Tk()\n",
    "window.title(\"윈도창 연습\")\n",
    "window.geometry(\"400x100\")\n",
    "window.resizable(width = FALSE, height = FALSE)\n",
    "\n",
    "window.mainloop()"
   ]
  },
  {
   "cell_type": "code",
   "execution_count": 22,
   "id": "25ed0b98",
   "metadata": {},
   "outputs": [
    {
     "ename": "KeyboardInterrupt",
     "evalue": "",
     "output_type": "error",
     "traceback": [
      "\u001b[1;31m---------------------------------------------------------------------------\u001b[0m",
      "\u001b[1;31mKeyboardInterrupt\u001b[0m                         Traceback (most recent call last)",
      "\u001b[1;32m<ipython-input-22-602146c67e35>\u001b[0m in \u001b[0;36m<module>\u001b[1;34m\u001b[0m\n\u001b[0;32m     10\u001b[0m \u001b[0mlabel3\u001b[0m\u001b[1;33m.\u001b[0m\u001b[0mpack\u001b[0m\u001b[1;33m(\u001b[0m\u001b[1;33m)\u001b[0m\u001b[1;33m\u001b[0m\u001b[1;33m\u001b[0m\u001b[0m\n\u001b[0;32m     11\u001b[0m \u001b[1;33m\u001b[0m\u001b[0m\n\u001b[1;32m---> 12\u001b[1;33m \u001b[0mwindow\u001b[0m\u001b[1;33m.\u001b[0m\u001b[0mmainloop\u001b[0m\u001b[1;33m(\u001b[0m\u001b[1;33m)\u001b[0m\u001b[1;33m\u001b[0m\u001b[1;33m\u001b[0m\u001b[0m\n\u001b[0m",
      "\u001b[1;32m~\\anaconda3\\lib\\tkinter\\__init__.py\u001b[0m in \u001b[0;36mmainloop\u001b[1;34m(self, n)\u001b[0m\n\u001b[0;32m   1427\u001b[0m     \u001b[1;32mdef\u001b[0m \u001b[0mmainloop\u001b[0m\u001b[1;33m(\u001b[0m\u001b[0mself\u001b[0m\u001b[1;33m,\u001b[0m \u001b[0mn\u001b[0m\u001b[1;33m=\u001b[0m\u001b[1;36m0\u001b[0m\u001b[1;33m)\u001b[0m\u001b[1;33m:\u001b[0m\u001b[1;33m\u001b[0m\u001b[1;33m\u001b[0m\u001b[0m\n\u001b[0;32m   1428\u001b[0m         \u001b[1;34m\"\"\"Call the mainloop of Tk.\"\"\"\u001b[0m\u001b[1;33m\u001b[0m\u001b[1;33m\u001b[0m\u001b[0m\n\u001b[1;32m-> 1429\u001b[1;33m         \u001b[0mself\u001b[0m\u001b[1;33m.\u001b[0m\u001b[0mtk\u001b[0m\u001b[1;33m.\u001b[0m\u001b[0mmainloop\u001b[0m\u001b[1;33m(\u001b[0m\u001b[0mn\u001b[0m\u001b[1;33m)\u001b[0m\u001b[1;33m\u001b[0m\u001b[1;33m\u001b[0m\u001b[0m\n\u001b[0m\u001b[0;32m   1430\u001b[0m \u001b[1;33m\u001b[0m\u001b[0m\n\u001b[0;32m   1431\u001b[0m     \u001b[1;32mdef\u001b[0m \u001b[0mquit\u001b[0m\u001b[1;33m(\u001b[0m\u001b[0mself\u001b[0m\u001b[1;33m)\u001b[0m\u001b[1;33m:\u001b[0m\u001b[1;33m\u001b[0m\u001b[1;33m\u001b[0m\u001b[0m\n",
      "\u001b[1;31mKeyboardInterrupt\u001b[0m: "
     ]
    }
   ],
   "source": [
    "from tkinter import *\n",
    "window = Tk()\n",
    "\n",
    "label1 = Label(window, text = \"COOKBOOK~~ Python을\")\n",
    "label2 = Label(window, text = \"열심히\", font = (\"궁서체\", 30), fg = \"blue\")\n",
    "label3 = Label(window, text = \"공부 중입니다.\", bg = \"magenta\", width = 20, height= 5, anchor= SE)\n",
    "\n",
    "label1.pack()\n",
    "label2.pack()\n",
    "label3.pack()\n",
    "\n",
    "window.mainloop()"
   ]
  },
  {
   "cell_type": "code",
   "execution_count": 23,
   "id": "2e893009",
   "metadata": {},
   "outputs": [
    {
     "ename": "TclError",
     "evalue": "image \"pyimage12\" doesn't exist",
     "output_type": "error",
     "traceback": [
      "\u001b[1;31m---------------------------------------------------------------------------\u001b[0m",
      "\u001b[1;31mTclError\u001b[0m                                  Traceback (most recent call last)",
      "\u001b[1;32m<ipython-input-23-b6d9772b925c>\u001b[0m in \u001b[0;36m<module>\u001b[1;34m\u001b[0m\n\u001b[0;32m      3\u001b[0m \u001b[1;33m\u001b[0m\u001b[0m\n\u001b[0;32m      4\u001b[0m \u001b[0mphoto\u001b[0m \u001b[1;33m=\u001b[0m \u001b[0mPhotoImage\u001b[0m\u001b[1;33m(\u001b[0m\u001b[0mfile\u001b[0m \u001b[1;33m=\u001b[0m \u001b[1;34m\"C:/Users/admin/StudyPython/Image/GIF/dog.gif\"\u001b[0m\u001b[1;33m)\u001b[0m\u001b[1;33m\u001b[0m\u001b[1;33m\u001b[0m\u001b[0m\n\u001b[1;32m----> 5\u001b[1;33m \u001b[0mlabel1\u001b[0m \u001b[1;33m=\u001b[0m \u001b[0mLabel\u001b[0m\u001b[1;33m(\u001b[0m\u001b[0mwindow\u001b[0m\u001b[1;33m,\u001b[0m \u001b[0mimage\u001b[0m \u001b[1;33m=\u001b[0m \u001b[0mphoto\u001b[0m\u001b[1;33m)\u001b[0m\u001b[1;33m\u001b[0m\u001b[1;33m\u001b[0m\u001b[0m\n\u001b[0m\u001b[0;32m      6\u001b[0m \u001b[1;33m\u001b[0m\u001b[0m\n\u001b[0;32m      7\u001b[0m \u001b[0mlabel1\u001b[0m\u001b[1;33m.\u001b[0m\u001b[0mpack\u001b[0m\u001b[1;33m(\u001b[0m\u001b[1;33m)\u001b[0m\u001b[1;33m\u001b[0m\u001b[1;33m\u001b[0m\u001b[0m\n",
      "\u001b[1;32m~\\anaconda3\\lib\\tkinter\\__init__.py\u001b[0m in \u001b[0;36m__init__\u001b[1;34m(self, master, cnf, **kw)\u001b[0m\n\u001b[0;32m   3146\u001b[0m \u001b[1;33m\u001b[0m\u001b[0m\n\u001b[0;32m   3147\u001b[0m         \"\"\"\n\u001b[1;32m-> 3148\u001b[1;33m         \u001b[0mWidget\u001b[0m\u001b[1;33m.\u001b[0m\u001b[0m__init__\u001b[0m\u001b[1;33m(\u001b[0m\u001b[0mself\u001b[0m\u001b[1;33m,\u001b[0m \u001b[0mmaster\u001b[0m\u001b[1;33m,\u001b[0m \u001b[1;34m'label'\u001b[0m\u001b[1;33m,\u001b[0m \u001b[0mcnf\u001b[0m\u001b[1;33m,\u001b[0m \u001b[0mkw\u001b[0m\u001b[1;33m)\u001b[0m\u001b[1;33m\u001b[0m\u001b[1;33m\u001b[0m\u001b[0m\n\u001b[0m\u001b[0;32m   3149\u001b[0m \u001b[1;33m\u001b[0m\u001b[0m\n\u001b[0;32m   3150\u001b[0m \u001b[1;33m\u001b[0m\u001b[0m\n",
      "\u001b[1;32m~\\anaconda3\\lib\\tkinter\\__init__.py\u001b[0m in \u001b[0;36m__init__\u001b[1;34m(self, master, widgetName, cnf, kw, extra)\u001b[0m\n\u001b[0;32m   2570\u001b[0m         \u001b[1;32mfor\u001b[0m \u001b[0mk\u001b[0m\u001b[1;33m,\u001b[0m \u001b[0mv\u001b[0m \u001b[1;32min\u001b[0m \u001b[0mclasses\u001b[0m\u001b[1;33m:\u001b[0m\u001b[1;33m\u001b[0m\u001b[1;33m\u001b[0m\u001b[0m\n\u001b[0;32m   2571\u001b[0m             \u001b[1;32mdel\u001b[0m \u001b[0mcnf\u001b[0m\u001b[1;33m[\u001b[0m\u001b[0mk\u001b[0m\u001b[1;33m]\u001b[0m\u001b[1;33m\u001b[0m\u001b[1;33m\u001b[0m\u001b[0m\n\u001b[1;32m-> 2572\u001b[1;33m         self.tk.call(\n\u001b[0m\u001b[0;32m   2573\u001b[0m             (widgetName, self._w) + extra + self._options(cnf))\n\u001b[0;32m   2574\u001b[0m         \u001b[1;32mfor\u001b[0m \u001b[0mk\u001b[0m\u001b[1;33m,\u001b[0m \u001b[0mv\u001b[0m \u001b[1;32min\u001b[0m \u001b[0mclasses\u001b[0m\u001b[1;33m:\u001b[0m\u001b[1;33m\u001b[0m\u001b[1;33m\u001b[0m\u001b[0m\n",
      "\u001b[1;31mTclError\u001b[0m: image \"pyimage12\" doesn't exist"
     ]
    }
   ],
   "source": [
    "from tkinter import *\n",
    "window = Tk()\n",
    "\n",
    "photo = PhotoImage(file = \"C:/Users/admin/StudyPython/Image/GIF/dog.gif\")\n",
    "label1 = Label(window, image = photo)\n",
    "\n",
    "label1.pack()\n",
    "\n",
    "window.mainloop()"
   ]
  },
  {
   "cell_type": "code",
   "execution_count": 1,
   "id": "cd0284f8",
   "metadata": {},
   "outputs": [
    {
     "ename": "NameError",
     "evalue": "name 'photo' is not defined",
     "output_type": "error",
     "traceback": [
      "\u001b[1;31m---------------------------------------------------------------------------\u001b[0m",
      "\u001b[1;31mNameError\u001b[0m                                 Traceback (most recent call last)",
      "\u001b[1;32m<ipython-input-1-9429893c3e96>\u001b[0m in \u001b[0;36m<module>\u001b[1;34m\u001b[0m\n\u001b[0;32m      5\u001b[0m \u001b[0mphoto2\u001b[0m \u001b[1;33m=\u001b[0m \u001b[0mPhotoImage\u001b[0m\u001b[1;33m(\u001b[0m\u001b[0mfile\u001b[0m \u001b[1;33m=\u001b[0m \u001b[1;34m\"C:/Users/admin/StudyPython/Image/GIF/cat5.gif\"\u001b[0m\u001b[1;33m)\u001b[0m\u001b[1;33m\u001b[0m\u001b[1;33m\u001b[0m\u001b[0m\n\u001b[0;32m      6\u001b[0m \u001b[1;33m\u001b[0m\u001b[0m\n\u001b[1;32m----> 7\u001b[1;33m \u001b[0mlabel1\u001b[0m \u001b[1;33m=\u001b[0m \u001b[0mLabel\u001b[0m\u001b[1;33m(\u001b[0m\u001b[0mwindow\u001b[0m\u001b[1;33m,\u001b[0m \u001b[0mimage\u001b[0m \u001b[1;33m=\u001b[0m \u001b[0mphoto\u001b[0m\u001b[1;33m)\u001b[0m\u001b[1;33m\u001b[0m\u001b[1;33m\u001b[0m\u001b[0m\n\u001b[0m\u001b[0;32m      8\u001b[0m \u001b[0mlabel2\u001b[0m \u001b[1;33m=\u001b[0m \u001b[0mLabel\u001b[0m\u001b[1;33m(\u001b[0m\u001b[0mwindow\u001b[0m\u001b[1;33m,\u001b[0m \u001b[0mimage\u001b[0m \u001b[1;33m=\u001b[0m \u001b[0mphoto2\u001b[0m\u001b[1;33m)\u001b[0m\u001b[1;33m\u001b[0m\u001b[1;33m\u001b[0m\u001b[0m\n\u001b[0;32m      9\u001b[0m \u001b[0mlabel1\u001b[0m\u001b[1;33m.\u001b[0m\u001b[0mpack\u001b[0m\u001b[1;33m(\u001b[0m\u001b[0mside\u001b[0m\u001b[1;33m=\u001b[0m\u001b[0mLEFT\u001b[0m\u001b[1;33m)\u001b[0m\u001b[1;33m\u001b[0m\u001b[1;33m\u001b[0m\u001b[0m\n",
      "\u001b[1;31mNameError\u001b[0m: name 'photo' is not defined"
     ]
    }
   ],
   "source": [
    "from tkinter import *\n",
    "window = Tk()\n",
    "\n",
    "photo1 = PhotoImage(file = \"C:/Users/admin/StudyPython/Image/GIF/dog.gif\")\n",
    "photo2 = PhotoImage(file = \"C:/Users/admin/StudyPython/Image/GIF/cat5.gif\")\n",
    "\n",
    "label1 = Label(window, image = photo)\n",
    "label2 = Label(window, image = photo2)\n",
    "label1.pack(side=LEFT)\n",
    "label2.pack(side=LEFT)\n",
    "\n",
    "window.mainloop()"
   ]
  },
  {
   "cell_type": "code",
   "execution_count": 2,
   "id": "67695808",
   "metadata": {},
   "outputs": [],
   "source": [
    "from tkinter import *\n",
    "window = Tk()\n",
    "\n",
    "button1 = Button(window, text = \"파이썬 종료\", fg = \"red\", command = quit)\n",
    "\n",
    "button1.pack()\n",
    "\n",
    "window.mainloop()"
   ]
  },
  {
   "cell_type": "code",
   "execution_count": 1,
   "id": "3c43855f",
   "metadata": {},
   "outputs": [],
   "source": [
    "from tkinter import *\n",
    "from tkinter import messagebox\n",
    "\n",
    "## 함수 선언 부분 ##\n",
    "def myFunc():\n",
    "    messagebox.showinfo(\"강아지 버튼\", \"강아지가 귀엽죠? ^^\")\n",
    "    \n",
    "## 메인 코드 부분 ## 이 부분의 틀은 거의 일정하니 기억하자!\n",
    "window = Tk()\n",
    "\n",
    "photo = PhotoImage(file = \"image/gif/dog2.gif\")\n",
    "button1 = Button(window, image= photo, command = myFunc)\n",
    "\n",
    "button1.pack()\n",
    "\n",
    "window.mainloop()"
   ]
  },
  {
   "cell_type": "code",
   "execution_count": 2,
   "id": "6886bbf1",
   "metadata": {},
   "outputs": [],
   "source": [
    "from tkinter import *\n",
    "from tkinter import messagebox\n",
    "window = Tk()\n",
    "\n",
    "## 함수 선언 부분 ##\n",
    "def myFunc():\n",
    "    if chk.get() == 0:\n",
    "        messagebox.showinfo(\"\", \"체크버튼이 꺼졌어요.\")\n",
    "    else:\n",
    "        messagebox.showinfo(\"\", \"체크버튼이 켜졌어요.\")\n",
    "## 메인 코드 부분 ##\n",
    "chk = IntVar()\n",
    "cb1 = Checkbutton(window, text = \"클릭하세요\", variable = chk, command=myFunc)\n",
    "\n",
    "cb1.pack()\n",
    "\n",
    "window.mainloop()"
   ]
  },
  {
   "cell_type": "code",
   "execution_count": 3,
   "id": "8ba76ef7",
   "metadata": {},
   "outputs": [],
   "source": [
    "from tkinter import *\n",
    "window = Tk()\n",
    "\n",
    "## 함수 선언 부분 ##\n",
    "def myFunc():\n",
    "    if var.get() == 1:\n",
    "        label1.configure(text = \"파이썬\")\n",
    "    elif var.get() == 2:\n",
    "        label1.configure(text = \"C++\")\n",
    "    else: \n",
    "        label1.configure(text = \"Java\")\n",
    "            \n",
    "## 메인 코드 부분 ##\n",
    "var = IntVar()\n",
    "rb1 = Radiobutton(window, text = \"파이썬\", variable = var, value = 1, command = myFunc)\n",
    "rb2 = Radiobutton(window, text = \"C++\", variable = var, value = 2, command = myFunc)\n",
    "rb3 = Radiobutton(window, text = \"Java\", variable = var, value = 3, command = myFunc)\n",
    "\n",
    "label1 = Label(window, text = \"선택한 언어 : \", fg = \"red\")\n",
    "rb1.pack()\n",
    "rb2.pack()\n",
    "rb3.pack()\n",
    "label1.pack()\n",
    "\n",
    "window.mainloop()"
   ]
  },
  {
   "cell_type": "code",
   "execution_count": 4,
   "id": "3747bf8f",
   "metadata": {},
   "outputs": [],
   "source": [
    "from tkinter import *\n",
    "\n",
    "## 전역 변수 선언 부분 ##\n",
    "btnList= [None] * 9\n",
    "fnameList = [\"froyo.gif\", \"gingerbread.gif\", \"honeycomb.gif\", \n",
    "             \"icecream.gif\", \"jellybean.gif\", \"kitkat.gif\", \n",
    "             \"lollipop.gif\", \"marshmallow.gif\", \"nougat.gif\"]\n",
    "photoList = [None] * 9\n",
    "i, k =0, 0\n",
    "xPos, yPos = 0, 0\n",
    "num = 0\n",
    "\n",
    "## 메인 코드 부분 ##\n",
    "window = Tk()\n",
    "window.geometry(\"210x210\")\n",
    "\n",
    "for i in range(0,9):\n",
    "    photoList[i] = PhotoImage(file = \"image/gif/\" + fnameList[i])\n",
    "    btnList[i] = Button(window, image = photoList[i])\n",
    "    \n",
    "for i in range(0,3):\n",
    "    for k in range(0,3):\n",
    "        btnList[num].place(x = xPos, y = yPos)\n",
    "        num += 1\n",
    "        xPos += 70\n",
    "    xPos = 0\n",
    "    yPos += 70\n",
    "    \n",
    "window.mainloop()\n"
   ]
  },
  {
   "cell_type": "code",
   "execution_count": 7,
   "id": "46fb2cb7",
   "metadata": {},
   "outputs": [],
   "source": [
    "from tkinter import *\n",
    "import random # 추가 1\n",
    "\n",
    "## 전역 변수 선언 부분 ##\n",
    "btnList= [None] * 9\n",
    "fnameList = [\"froyo.gif\", \"gingerbread.gif\", \"honeycomb.gif\", \n",
    "             \"icecream.gif\", \"jellybean.gif\", \"kitkat.gif\", \n",
    "             \"lollipop.gif\", \"marshmallow.gif\", \"nougat.gif\"]\n",
    "photoList = [None] * 9\n",
    "i, k =0, 0\n",
    "xPos, yPos = 0, 0\n",
    "num = 0\n",
    "\n",
    "## 메인 코드 부분 ##\n",
    "window = Tk()\n",
    "window.geometry(\"210x210\")\n",
    "random.shuffle(fnameList) # 추가 2\n",
    "\n",
    "for i in range(0,9):\n",
    "    photoList[i] = PhotoImage(file = \"image/gif/\" + fnameList[i])\n",
    "    btnList[i] = Button(window, image = photoList[i])\n",
    "    \n",
    "for i in range(0,3):\n",
    "    for k in range(0,3):\n",
    "        btnList[num].place(x = xPos, y = yPos)\n",
    "        num += 1\n",
    "        xPos += 70\n",
    "    xPos = 0\n",
    "    yPos += 70\n",
    "    \n",
    "window.mainloop()"
   ]
  },
  {
   "cell_type": "code",
   "execution_count": 10,
   "id": "ff9090c7",
   "metadata": {},
   "outputs": [],
   "source": [
    "from tkinter import *\n",
    "from time import *\n",
    "\n",
    "## 전역 변수 선언 부분 ##\n",
    "fnameList = [\"jeju1.gif\", \"jeju2.gif\", \"jeju3.gif\", \"jeju4.gif\", \n",
    "             \"jeju5.gif\", \"jeju6.gif\", \"jeju7.gif\", \"jeju8.gif\", \"jeju9.gif\" ]\n",
    "photoList = [None] * 9\n",
    "num = 0\n",
    "\n",
    "## 함수 선언 부분 ##\n",
    "def clickNext():\n",
    "    global num\n",
    "    num += 1\n",
    "    if num > 8:\n",
    "        num = 0\n",
    "    photo = PhotoImage(file = \"image/gif/\" + fnameList[num])\n",
    "    pLabel.configure(image = photo)\n",
    "    pLabel.image = photo\n",
    "    \n",
    "def clickPrev():\n",
    "    global num\n",
    "    num -= 1\n",
    "    if num < 0:\n",
    "        num = 8\n",
    "    photo = PhotoImage(file = \"image/gif/\" + fnameList[num])\n",
    "    pLabel.configure(image = photo)\n",
    "    pLabel.image = photo\n",
    "\n",
    "## 메인 코드 부분 ##\n",
    "window = Tk()\n",
    "window.geometry(\"700x500\")\n",
    "window.title(\"사진 앨범 보기\")\n",
    "\n",
    "btnPrev = Button(window, text = \"<< 이전\", command = clickPrev)\n",
    "btnNext = Button(window, text = \"다음 >>\", command = clickNext)\n",
    "\n",
    "photo = PhotoImage(file = \"image/gif/\" + fnameList[0])\n",
    "pLabel = Label(window, image = photo)\n",
    "\n",
    "btnPrev.place(x = 250, y = 10)\n",
    "btnNext.place(x = 400, y = 10)\n",
    "pLabel.place(x = 15, y = 50)\n",
    "\n",
    "window.mainloop()"
   ]
  },
  {
   "cell_type": "code",
   "execution_count": 11,
   "id": "137aeeb7",
   "metadata": {},
   "outputs": [],
   "source": [
    "from tkinter import *\n",
    "from time import *\n",
    "\n",
    "## 전역 변수 선언 부분 ##\n",
    "fnameList = [\"jeju1.gif\", \"jeju2.gif\", \"jeju3.gif\", \"jeju4.gif\", \n",
    "             \"jeju5.gif\", \"jeju6.gif\", \"jeju7.gif\", \"jeju8.gif\", \"jeju9.gif\" ]\n",
    "photoList = [None] * 9\n",
    "num = 0\n",
    "\n",
    "## 함수 선언 부분 ##\n",
    "def clickNext():\n",
    "    global num\n",
    "    num += 1\n",
    "    if num > 8:\n",
    "        num = 0\n",
    "    photo = PhotoImage(file = \"image/gif/\" + fnameList[num])\n",
    "    pLabel.configure(image = photo)\n",
    "    pLabel.image = photo\n",
    "    label1 = Label(window, text = fnameList[num])\n",
    "    label1.place(x = 325,  y = 10)\n",
    "def clickPrev():\n",
    "    global num\n",
    "    num -= 1\n",
    "    if num < 0:\n",
    "        num = 8\n",
    "    photo = PhotoImage(file = \"image/gif/\" + fnameList[num])\n",
    "    pLabel.configure(image = photo)\n",
    "    pLabel.image = photo\n",
    "    label1 = Label(window, text = fnameList[num])\n",
    "    label1.place(x = 325,  y = 10)\n",
    "\n",
    "## 메인 코드 부분 ##\n",
    "window = Tk()\n",
    "window.geometry(\"700x500\")\n",
    "window.title(\"사진 앨범 보기\")\n",
    "\n",
    "btnPrev = Button(window, text = \"<< 이전\", command = clickPrev)\n",
    "btnNext = Button(window, text = \"다음 >>\", command = clickNext)\n",
    "\n",
    "\n",
    "photo = PhotoImage(file = \"image/gif/\" + fnameList[0])\n",
    "pLabel = Label(window, image = photo)\n",
    "label1 = Label(window, text = fnameList[num])\n",
    "\n",
    "btnPrev.place(x = 250, y = 10)\n",
    "btnNext.place(x = 400, y = 10)\n",
    "label1.place(x = 325,  y = 10)\n",
    "pLabel.place(x = 15, y = 50)\n",
    "\n",
    "window.mainloop()"
   ]
  },
  {
   "cell_type": "code",
   "execution_count": 12,
   "id": "7e8b83f5",
   "metadata": {},
   "outputs": [],
   "source": [
    "from tkinter import *\n",
    "from tkinter import messagebox\n",
    "\n",
    "## 함수 선언 부분 ##\n",
    "def clickLeft(event):\n",
    "    messagebox.showinfo(\"마우스\", \"마우스 왼쪽 버튼이 클릭됨\")\n",
    "    \n",
    "## 메인 코드 부분 ##\n",
    "window = Tk()\n",
    "window.geometry(\"400x400\")\n",
    "\n",
    "window.bind(\"<Button-1>\", clickLeft)\n",
    "\n",
    "window.mainloop()"
   ]
  },
  {
   "cell_type": "code",
   "execution_count": 13,
   "id": "c731d4f0",
   "metadata": {},
   "outputs": [],
   "source": [
    "from tkinter import *\n",
    "from tkinter import messagebox\n",
    "\n",
    "## 함수 선언 부분 ##\n",
    "def clickImage(event):\n",
    "    messagebox.showinfo(\"마우스\", \"토끼에서 마우스가 클릭됨\")\n",
    "    \n",
    "## 메인 코드 부분 ##\n",
    "window = Tk()\n",
    "window.geometry(\"400x400\")\n",
    "\n",
    "photo = PhotoImage(file = \"image/gif/rabbit.gif\")\n",
    "label1 = Label(window, image = photo)\n",
    "\n",
    "label1.bind(\"<Button>\", clickImage)\n",
    "\n",
    "label1.pack(expand = 1, anchor = CENTER)\n",
    "window.mainloop()"
   ]
  },
  {
   "cell_type": "code",
   "execution_count": 14,
   "id": "466dfb7f",
   "metadata": {},
   "outputs": [],
   "source": [
    "from tkinter import *\n",
    "\n",
    "## 함수 선언 부분 ##\n",
    "def clickMouse(event):\n",
    "    txt = \"\"\n",
    "    if event.num == 1:\n",
    "        txt += \"마우스 왼쪽 버튼이 (\"\n",
    "    elif event.num == 3:\n",
    "        txt += \"마우스 오른쪽 버튼이 (\"\n",
    "        \n",
    "    txt+= str(event.y) + \",\" + str(event.x) + \")에서 클릭됨\"\n",
    "    label1.configure(text = txt)\n",
    "    \n",
    "## 메인 코드 부분 ##\n",
    "window = Tk()\n",
    "window.geometry(\"400x400\")\n",
    "\n",
    "label1 = Label(window, text = \"이곳이 바뀜\")\n",
    "\n",
    "window.bind(\"<Button>\", clickMouse)\n",
    "\n",
    "label1.pack(expand = 1, anchor = CENTER)\n",
    "window.mainloop()"
   ]
  },
  {
   "cell_type": "code",
   "execution_count": 16,
   "id": "3b44066e",
   "metadata": {},
   "outputs": [],
   "source": [
    "from tkinter import *\n",
    "from tkinter import messagebox\n",
    "\n",
    "## 함수 선언 부분 ##\n",
    "def keyEvent(event):\n",
    "    messagebox.showinfo(\"키보드 이벤트\", \"눌린 키 : \" + chr(event.keycode))\n",
    "    \n",
    "## 메인 코드 부분 ##\n",
    "window = Tk()\n",
    "\n",
    "window.bind(\"<Key>\", keyEvent)\n",
    "\n",
    "window.mainloop()"
   ]
  },
  {
   "cell_type": "code",
   "execution_count": 22,
   "id": "3d3d4f2b",
   "metadata": {},
   "outputs": [],
   "source": [
    "from tkinter import *\n",
    "\n",
    "window = Tk()\n",
    "\n",
    "mainMenu = Menu(window)\n",
    "window.config(menu = mainMenu)\n",
    "\n",
    "fileMenu = Menu(mainMenu)\n",
    "mainMenu.add_cascade(label = \"파일\", menu = fileMenu)\n",
    "fileMenu.add_command(label = \"열기\")\n",
    "fileMenu.add_separator()\n",
    "fileMenu.add_command(label = \"종료\")\n",
    "\n",
    "window.mainloop()"
   ]
  },
  {
   "cell_type": "code",
   "execution_count": 1,
   "id": "bd66dcf1",
   "metadata": {},
   "outputs": [],
   "source": [
    "from tkinter import *\n",
    "from tkinter import messagebox\n",
    "\n",
    "## 함수 선언\n",
    "def func_open():\n",
    "    messagebox.showinfo(\"메뉴선택\", \"열기 메뉴를 선택함\")\n",
    "\n",
    "def func_exit():\n",
    "    window.quit()\n",
    "    window.destory()\n",
    "\n",
    "# 메인 코드    \n",
    "window = Tk()\n",
    "\n",
    "mainMenu = Menu(window)\n",
    "window.config(menu = mainMenu)\n",
    "\n",
    "fileMenu = Menu(mainMenu)\n",
    "mainMenu.add_cascade(label = \"파일\", menu = fileMenu)\n",
    "fileMenu.add_command(label = \"열기\",command = func_open)\n",
    "fileMenu.add_separator()\n",
    "fileMenu.add_command(label = \"종료\", command = func_exit)\n",
    "\n",
    "window.mainloop()"
   ]
  },
  {
   "cell_type": "code",
   "execution_count": 5,
   "id": "7ae719a7",
   "metadata": {},
   "outputs": [],
   "source": [
    "from tkinter import *\n",
    "from tkinter.filedialog import *\n",
    "\n",
    "## 함수 선언 부분 ##\n",
    "window = Tk()\n",
    "window.geometry(\"400x100\")\n",
    "\n",
    "label1 = Label(window, text = \"선택된 파일 이름\")\n",
    "label1.pack()\n",
    "\n",
    "filename = askopenfilename(parent = window, filetypes \n",
    "         = ((\"GIF 파일\", \"*.gif\"), (\"모든 파일\", \"*.*\")))\n",
    "\n",
    "label1.configure(text = str(filename))\n",
    "\n",
    "window.mainloop()"
   ]
  },
  {
   "cell_type": "code",
   "execution_count": 9,
   "id": "97b8149b",
   "metadata": {},
   "outputs": [],
   "source": [
    "from tkinter import *\n",
    "from tkinter.filedialog import *\n",
    "\n",
    "## 함수 선언 부분 ##\n",
    "def func_open():\n",
    "    filename = askopenfilename(parent = window, filetypes \n",
    "             = ((\"GIF 파일\", \"*.gif\"), (\"모든 파일\", \"*.*\")))\n",
    "    photo = PhotoImage(file = filename)\n",
    "    pLabel.configure(image = photo)\n",
    "    pLabel.image = photo\n",
    "    \n",
    "def func_exit():\n",
    "    window.quit()\n",
    "    window.destroy()\n",
    "    \n",
    "## 메인 코드 부분 ##\n",
    "window = Tk()\n",
    "window.geometry(\"400x400\")\n",
    "window.title(\"명화 감상하기\")\n",
    "\n",
    "photo = PhotoImage()\n",
    "pLabel = Label(window, image = photo)\n",
    "pLabel.pack(expand = 1, anchor = CENTER)\n",
    "\n",
    "mainMenu = Menu(window)\n",
    "window.config(menu = mainMenu)\n",
    "fileMenu = Menu(mainMenu)\n",
    "mainMenu.add_cascade(label = \"파일\", menu = fileMenu)\n",
    "fileMenu.add_command(label = \"파일 열기\", command = func_open)\n",
    "fileMenu.add_separator()\n",
    "fileMenu.add_command(label = \"프로그램 종료\", command = func_exit)\n",
    "\n",
    "window.mainloop()"
   ]
  },
  {
   "cell_type": "code",
   "execution_count": 12,
   "id": "1b90722f",
   "metadata": {},
   "outputs": [],
   "source": [
    "from tkinter import *\n",
    "from tkinter.filedialog import *\n",
    "\n",
    "## 함수 선언 부분 ##\n",
    "def func_open():\n",
    "    filename = askopenfilename(parent = window, filetypes \n",
    "             = ((\"GIF 파일\", \"*.gif\"), (\"모든 파일\", \"*.*\")))\n",
    "    photo = PhotoImage(file = filename)\n",
    "    \n",
    "    width = photo.width()\n",
    "    height = photo.height()\n",
    "    \n",
    "    for i in range(height):\n",
    "        for k in range(width):\n",
    "            r, g, b= photo.get(k,i)\n",
    "            grey = int((r+g+b)/3)\n",
    "            photo.put(\"#%02x%02x%02x\" % (grey,grey,grey), (k,i))\n",
    "    \n",
    "    pLabel.configure(image = photo)\n",
    "    pLabel.image = photo\n",
    "    \n",
    "def func_exit():\n",
    "    window.quit()\n",
    "    window.destroy()\n",
    "    \n",
    "## 메인 코드 부분 ##\n",
    "window = Tk()\n",
    "window.geometry(\"400x400\")\n",
    "window.title(\"명화 감상하기\")\n",
    "\n",
    "photo = PhotoImage()\n",
    "pLabel = Label(window, image = photo)\n",
    "pLabel.pack(expand = 1, anchor = CENTER)\n",
    "\n",
    "mainMenu = Menu(window)\n",
    "window.config(menu = mainMenu)\n",
    "fileMenu = Menu(mainMenu)\n",
    "mainMenu.add_cascade(label = \"파일\", menu = fileMenu)\n",
    "fileMenu.add_command(label = \"파일 열기\", command = func_open)\n",
    "fileMenu.add_separator()\n",
    "fileMenu.add_command(label = \"프로그램 종료\", command = func_exit)\n",
    "\n",
    "window.mainloop()"
   ]
  },
  {
   "cell_type": "code",
   "execution_count": 6,
   "id": "cea89e03",
   "metadata": {},
   "outputs": [
    {
     "name": "stdout",
     "output_type": "stream",
     "text": [
      " 1. 암호화 2. 암호 해석 중 선택 : 2\n",
      "입력 파일명을 입력하세요 : C:/Temp/data6.txt\n",
      "출력 파일명을 입력하세요 : C:/Temp/data5.txt\n",
      "C:/Temp/data6.txt --> C:/Temp/data5.txt 변환 완료\n"
     ]
    }
   ],
   "source": [
    "## 변수 선언 부분 ##\n",
    "inFp, outFp = None, None\n",
    "inStr, outStr = \"\", \"\"\n",
    "i = 0\n",
    "secu = 0\n",
    "\n",
    "## 메인 코드 부분 ##\n",
    "secuYN = input(\" 1. 암호화 2. 암호 해석 중 선택 : \")\n",
    "inFname = input(\"입력 파일명을 입력하세요 : \")\n",
    "outFname =  input(\"출력 파일명을 입력하세요 : \")\n",
    "\n",
    "if secuYN == \"1\" :\n",
    "    secu = 100\n",
    "elif secuYN == \"2\":\n",
    "    secu = -100\n",
    "\n",
    "inFp = open(inFname, 'r', encoding = 'utf-8')\n",
    "outFp = open(outFname, 'w', encoding = 'utf-8')\n",
    "\n",
    "while True:\n",
    "    inStr = inFp.readline()\n",
    "    if not inStr:\n",
    "        break\n",
    "    \n",
    "    outStr = \"\"\n",
    "    for i in range(0, len(inStr)):\n",
    "        ch = inStr[i]\n",
    "        chNum = ord(ch)\n",
    "        chNum = chNum + secu\n",
    "        ch2 = chr(chNum)\n",
    "        outStr = outStr + ch2\n",
    "        \n",
    "    outFp.write(outStr)\n",
    "\n",
    "outFp.close()\n",
    "inFp.close()\n",
    "print('%s --> %s 변환 완료' %(inFname, outFname))\n"
   ]
  },
  {
   "cell_type": "code",
   "execution_count": 7,
   "id": "522e7c6a",
   "metadata": {},
   "outputs": [
    {
     "data": {
      "text/plain": [
       "'C:/Temp/myNote.exe'"
      ]
     },
     "execution_count": 7,
     "metadata": {},
     "output_type": "execute_result"
    }
   ],
   "source": [
    "import shutil\n",
    "shutil.copy('C:/Windows/notepad.exe', 'C:/Temp/myNote.exe')"
   ]
  },
  {
   "cell_type": "code",
   "execution_count": 11,
   "id": "1e0f3cf5",
   "metadata": {},
   "outputs": [],
   "source": [
    "import os\n",
    "import shutil\n",
    "os.mkdir('C:/myDir/')       \n",
    "os.mkdir('C:/myDir/dir1/')  \n",
    "shutil.rmtree('C:/myDir/') "
   ]
  },
  {
   "cell_type": "code",
   "execution_count": 16,
   "id": "72bd312d",
   "metadata": {},
   "outputs": [],
   "source": [
    "import os\n",
    "for dirName, subDirList, fnames in os.walk('C:\\\\Windows\\\\debug'):\n",
    "    for fname in fnames:\n",
    "        os.path.join(dirName, fname)"
   ]
  },
  {
   "cell_type": "code",
   "execution_count": 17,
   "id": "1678276e",
   "metadata": {},
   "outputs": [
    {
     "data": {
      "text/plain": [
       "True"
      ]
     },
     "execution_count": 17,
     "metadata": {},
     "output_type": "execute_result"
    }
   ],
   "source": [
    "import os.path\n",
    "os.path.exists('C:/Windows/notepad.exe')\n",
    "os.path.isfile('C:/Windows/notepad.exe')\n",
    "os.path.isdir('C:/Windows')\n"
   ]
  },
  {
   "cell_type": "code",
   "execution_count": 20,
   "id": "b73a13e7",
   "metadata": {},
   "outputs": [
    {
     "data": {
      "text/plain": [
       "22332"
      ]
     },
     "execution_count": 20,
     "metadata": {},
     "output_type": "execute_result"
    }
   ],
   "source": [
    "import os.path\n",
    "os.path.getsize('image/GIF/dog.gif')\n"
   ]
  },
  {
   "cell_type": "code",
   "execution_count": 21,
   "id": "454af9c6",
   "metadata": {},
   "outputs": [],
   "source": [
    "import zipfile\n",
    "newZip = zipfile.ZipFile('C:/Temp/new.zip', 'w')\n",
    "newZip.write('C:/Windows/notepad.exe', compress_type = zipfile.ZIP_DEFLATED)\n",
    "newZip.close()"
   ]
  },
  {
   "cell_type": "code",
   "execution_count": 23,
   "id": "520473ca",
   "metadata": {},
   "outputs": [],
   "source": [
    "import zipfile\n",
    "extZip = zipfile.ZipFile('C:/Temp/new.zip','r')\n",
    "extZip.extractall('C:/Temp/')\n",
    "extZip.close()"
   ]
  },
  {
   "cell_type": "code",
   "execution_count": null,
   "id": "9dd09f8b",
   "metadata": {},
   "outputs": [],
   "source": []
  },
  {
   "cell_type": "code",
   "execution_count": null,
   "id": "b73c564b",
   "metadata": {},
   "outputs": [],
   "source": []
  },
  {
   "cell_type": "code",
   "execution_count": null,
   "id": "ab068781",
   "metadata": {},
   "outputs": [],
   "source": []
  },
  {
   "cell_type": "code",
   "execution_count": null,
   "id": "d51d96c1",
   "metadata": {},
   "outputs": [],
   "source": []
  },
  {
   "cell_type": "code",
   "execution_count": null,
   "id": "b9d6a253",
   "metadata": {},
   "outputs": [],
   "source": []
  }
 ],
 "metadata": {
  "kernelspec": {
   "display_name": "Python 3",
   "language": "python",
   "name": "python3"
  },
  "language_info": {
   "codemirror_mode": {
    "name": "ipython",
    "version": 3
   },
   "file_extension": ".py",
   "mimetype": "text/x-python",
   "name": "python",
   "nbconvert_exporter": "python",
   "pygments_lexer": "ipython3",
   "version": "3.8.8"
  }
 },
 "nbformat": 4,
 "nbformat_minor": 5
}
