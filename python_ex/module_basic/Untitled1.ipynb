{
 "cells": [
  {
   "cell_type": "code",
   "execution_count": 1,
   "id": "3b5c9bb9",
   "metadata": {},
   "outputs": [
    {
     "name": "stdout",
     "output_type": "stream",
     "text": [
      " C 드라이브의 볼륨: MyCom\n",
      " 볼륨 일련 번호: CA1E-7F51\n",
      "\n",
      " C:\\Users\\admin\\python_ex\\module_basic 디렉터리\n",
      "\n",
      "2021-07-19  오후 04:35    <DIR>          .\n",
      "2021-07-19  오후 04:35    <DIR>          ..\n",
      "2021-07-19  오후 04:35    <DIR>          .ipynb_checkpoints\n",
      "2021-07-19  오후 01:56    <DIR>          __pycache__\n",
      "2019-05-10  오전 09:51               154 main.py\n",
      "2021-07-19  오후 01:56             1,072 test.py\n",
      "2019-05-10  오전 09:51               255 test_module.py\n",
      "2021-07-19  오후 01:49                 0 untitled\n",
      "2021-07-19  오후 01:55                72 Untitled.ipynb\n",
      "2021-07-19  오후 04:35                72 Untitled1.ipynb\n",
      "               6개 파일               1,625 바이트\n",
      "               4개 디렉터리  97,883,381,760 바이트 남음\n"
     ]
    }
   ],
   "source": [
    "ls"
   ]
  },
  {
   "cell_type": "code",
   "execution_count": null,
   "id": "7b84abdd",
   "metadata": {},
   "outputs": [],
   "source": []
  }
 ],
 "metadata": {
  "kernelspec": {
   "display_name": "Python 3",
   "language": "python",
   "name": "python3"
  },
  "language_info": {
   "codemirror_mode": {
    "name": "ipython",
    "version": 3
   },
   "file_extension": ".py",
   "mimetype": "text/x-python",
   "name": "python",
   "nbconvert_exporter": "python",
   "pygments_lexer": "ipython3",
   "version": "3.8.8"
  }
 },
 "nbformat": 4,
 "nbformat_minor": 5
}
