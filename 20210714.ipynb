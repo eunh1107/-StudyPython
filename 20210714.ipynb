{
 "cells": [
  {
   "cell_type": "code",
   "execution_count": 4,
   "id": "972015ff",
   "metadata": {},
   "outputs": [
    {
     "name": "stdout",
     "output_type": "stream",
     "text": [
      "가격을 입력하세요 : 12\n",
      "개수를 입력하세요 : 13\n",
      "총액은 156 원입니다.\n"
     ]
    }
   ],
   "source": [
    "price = input('가격을 입력하세요 : ')\n",
    "num = input('개수를 입력하세요 : ')\n",
    "sum = int(price) * int(num)\n",
    "print('총액은', sum, '원입니다.')"
   ]
  },
  {
   "cell_type": "code",
   "execution_count": 5,
   "id": "b19148d4",
   "metadata": {},
   "outputs": [
    {
     "name": "stdout",
     "output_type": "stream",
     "text": [
      "가격을 입력하세요 : 12\n",
      "개수를 입력하세요 : 13\n",
      "총액은 156 원입니다.\n"
     ]
    }
   ],
   "source": [
    "price = int(input('가격을 입력하세요 : '))\n",
    "num = int(input('개수를 입력하세요 : '))\n",
    "sum = price * num\n",
    "print('총액은', sum, '원입니다.')"
   ]
  },
  {
   "cell_type": "code",
   "execution_count": 6,
   "id": "93d1fbb8",
   "metadata": {},
   "outputs": [
    {
     "name": "stdout",
     "output_type": "stream",
     "text": [
      "26\n"
     ]
    }
   ],
   "source": [
    "a=0x1a\n",
    "print(a)"
   ]
  },
  {
   "cell_type": "code",
   "execution_count": 8,
   "id": "6bd95e51",
   "metadata": {},
   "outputs": [
    {
     "name": "stdout",
     "output_type": "stream",
     "text": [
      "31536000\n"
     ]
    }
   ],
   "source": [
    "totalsec = 365*24*\\\n",
    "            60*60\n",
    "print(totalsec)"
   ]
  },
  {
   "cell_type": "code",
   "execution_count": 9,
   "id": "d522d374",
   "metadata": {},
   "outputs": [
    {
     "name": "stdout",
     "output_type": "stream",
     "text": [
      "koreajapan2002\n"
     ]
    }
   ],
   "source": [
    "s = (\"korea\"\n",
    "    \"japan\"\n",
    "    \"2002\")\n",
    "print(s)"
   ]
  },
  {
   "cell_type": "code",
   "execution_count": 10,
   "id": "0023749b",
   "metadata": {},
   "outputs": [
    {
     "name": "stdout",
     "output_type": "stream",
     "text": [
      "대한민국만세\n"
     ]
    }
   ],
   "source": [
    ">>> s1 = \"대한민국\"\n",
    ">>> s2 = \"만세\"\n",
    ">>> print(s1+s2)"
   ]
  },
  {
   "cell_type": "code",
   "execution_count": 13,
   "id": "23f5012d",
   "metadata": {},
   "outputs": [
    {
     "name": "stdout",
     "output_type": "stream",
     "text": [
      "좋아좋아좋아좋아좋아\n"
     ]
    }
   ],
   "source": [
    ">>> print(\"좋아\" * 5)"
   ]
  },
  {
   "cell_type": "code",
   "execution_count": 14,
   "id": "38ac2e6b",
   "metadata": {},
   "outputs": [
    {
     "name": "stdout",
     "output_type": "stream",
     "text": [
      "2\n",
      "3\n",
      "2.5\n",
      "123500000\n"
     ]
    }
   ],
   "source": [
    "print(int(2.54))\n",
    "print(round(2.54))\n",
    "print(round(2.54, 1))\n",
    "print(round(123456789, -5))"
   ]
  },
  {
   "cell_type": "code",
   "execution_count": 15,
   "id": "09dc7061",
   "metadata": {},
   "outputs": [
    {
     "name": "stdout",
     "output_type": "stream",
     "text": [
      "3 ~ 7 =  25\n"
     ]
    }
   ],
   "source": [
    "def calcrange(begin, end):\n",
    "    sum = 0\n",
    "    for num in range(begin, end+1):\n",
    "        sum += num\n",
    "    return sum\n",
    "\n",
    "print(\"3 ~ 7 = \", calcrange(3, 7))"
   ]
  },
  {
   "cell_type": "code",
   "execution_count": 16,
   "id": "117ac619",
   "metadata": {},
   "outputs": [
    {
     "name": "stdout",
     "output_type": "stream",
     "text": [
      "6\n",
      "45\n",
      "54\n"
     ]
    }
   ],
   "source": [
    "def intsum(*ints):\n",
    "    sum = 0\n",
    "    for num in ints:\n",
    "        sum += num\n",
    "    return sum\n",
    "\n",
    "print(intsum(1, 2, 3))\n",
    "print(intsum(5, 7, 9, 11, 13))\n",
    "print(intsum(8, 9, 6, 2, 9, 7, 5, 8))"
   ]
  },
  {
   "cell_type": "code",
   "execution_count": 18,
   "id": "68a779b1",
   "metadata": {},
   "outputs": [
    {
     "name": "stdout",
     "output_type": "stream",
     "text": [
      "1 ~ 10 =  25\n",
      "1 ~ 100 =  5050\n"
     ]
    }
   ],
   "source": [
    "def calcstep(begin, end, step = 1):\n",
    "    sum = 0\n",
    "    for num in range(begin, end + 1, step):\n",
    "        sum += num\n",
    "    return sum\n",
    "\n",
    "print(\"1 ~ 10 = \", calcstep(1, 10, 2))\n",
    "print(\"1 ~ 100 = \", calcstep(1, 100))"
   ]
  },
  {
   "cell_type": "code",
   "execution_count": 19,
   "id": "26d97bf5",
   "metadata": {},
   "outputs": [
    {
     "name": "stdout",
     "output_type": "stream",
     "text": [
      "good morning.\n",
      "GOOD MORNING.\n",
      "Good morning.\n",
      "gOOD MORNING.\n",
      "Good morning.\n",
      "Good Morning.\n"
     ]
    }
   ],
   "source": [
    "s = \"Good morning.\"\n",
    "print(s.lower())\n",
    "print(s.upper())\n",
    "print(s)\n",
    "\n",
    "print(s.swapcase())\n",
    "print(s.capitalize())\n",
    "print(s.title())"
   ]
  },
  {
   "cell_type": "code",
   "execution_count": 20,
   "id": "61e9c5e5",
   "metadata": {},
   "outputs": [
    {
     "name": "stdout",
     "output_type": "stream",
     "text": [
      "8월 15일은 광복절이다.\n"
     ]
    }
   ],
   "source": [
    "month = 8\n",
    "day =15\n",
    "anni = \"광복절\"\n",
    "print(\"%d월 %d일은 %s이다.\" % (month, day, anni))"
   ]
  },
  {
   "cell_type": "code",
   "execution_count": 22,
   "id": "a45e83e9",
   "metadata": {},
   "outputs": [
    {
     "name": "stdout",
     "output_type": "stream",
     "text": [
      "가격 : 30원\n",
      "가격 : 13500원\n",
      "가격 : 2000원\n",
      "가격 :      30원\n",
      "가격 :   13500원\n",
      "가격 :    2000원\n",
      "가격 : 30     원\n",
      "가격 : 13500  원\n",
      "가격 : 2000   원\n"
     ]
    }
   ],
   "source": [
    "price = [30, 13500, 2000]\n",
    "for p in price:\n",
    "    print(\"가격 : %d원\" %p)\n",
    "for p in price:\n",
    "    print(\"가격 : %7d원\" %p)\n",
    "for p in price:\n",
    "    print(\"가격 : %-7d원\" %p)"
   ]
  },
  {
   "cell_type": "code",
   "execution_count": 25,
   "id": "66bc3d52",
   "metadata": {
    "scrolled": true
   },
   "outputs": [
    {
     "name": "stdout",
     "output_type": "stream",
     "text": [
      "  3.141593\n",
      "3.14159265\n",
      "   3.14159\n",
      "      3.14\n"
     ]
    }
   ],
   "source": [
    "pie = 3.14159265\n",
    "print(\"%10f\" % pie)\n",
    "print(\"%10.8f\" % pie)\n",
    "print(\"%10.5f\" % pie)\n",
    "print(\"%10.2f\" % pie)"
   ]
  },
  {
   "cell_type": "code",
   "execution_count": 26,
   "id": "9081615e",
   "metadata": {},
   "outputs": [
    {
     "name": "stdout",
     "output_type": "stream",
     "text": [
      "[2, 3, 4]\n",
      "[0, 1, 2, 3]\n",
      "[6, 7, 8, 9]\n",
      "[1, 3, 5]\n"
     ]
    }
   ],
   "source": [
    "nums = [0,1,2,3,4,5,6,7,8,9]\n",
    "print(nums[2:5])  # 2~5까지\n",
    "print(nums[:4])   # 처음부터 4까지\n",
    "print(nums[6:])   # 6에서 끝까지\n",
    "print(nums[1:7:2])# 1~7까지 하나씩 건너뛰며"
   ]
  },
  {
   "cell_type": "code",
   "execution_count": 27,
   "id": "20352a7d",
   "metadata": {},
   "outputs": [
    {
     "name": "stdout",
     "output_type": "stream",
     "text": [
      "70\n",
      "55\n"
     ]
    }
   ],
   "source": [
    "score = [88, 95, 70, 100, 99]\n",
    "print(score[2]) # 70\n",
    "score[2] = 55   # 값 변경\n",
    "print(score[2]) # 55"
   ]
  },
  {
   "cell_type": "code",
   "execution_count": 28,
   "id": "fe8d688d",
   "metadata": {},
   "outputs": [
    {
     "name": "stdout",
     "output_type": "stream",
     "text": [
      "[0, 1, 20, 30, 40, 5, 6, 7, 8, 9]\n",
      "[0, 1, 20, 30, 40, 5, 90, 91, 92, 93, 94, 8, 9]\n"
     ]
    }
   ],
   "source": [
    "nums = [0,1,2,3,4,5,6,7,8,9]\n",
    "nums[2:5] = [20,30,40]\n",
    "print(nums)\n",
    "nums[6:8] = [90,91,92,93,94]\n",
    "print(nums)"
   ]
  },
  {
   "cell_type": "code",
   "execution_count": 29,
   "id": "703ceb82",
   "metadata": {},
   "outputs": [
    {
     "name": "stdout",
     "output_type": "stream",
     "text": [
      "[1, 2, 3]\n",
      "7\n",
      "1 2 3 \n",
      "4 5 \n",
      "6 7 8 9 \n"
     ]
    }
   ],
   "source": [
    "lol = [[1,2,3],[4,5],[6,7,8,9]]\n",
    "print(lol[0])\n",
    "print(lol[2][1])\n",
    "\n",
    "for sub in lol:\n",
    "    for item in sub:\n",
    "        print(item, end=' ')\n",
    "    print()"
   ]
  },
  {
   "cell_type": "code",
   "execution_count": 30,
   "id": "6f73ce03",
   "metadata": {},
   "outputs": [
    {
     "name": "stdout",
     "output_type": "stream",
     "text": [
      "2, 4, 6, 8, 10, 12, 14, 16, 18, 20, "
     ]
    }
   ],
   "source": [
    "nums = [n * 2 for n in range(1,11)]\n",
    "for i in nums:\n",
    "\tprint(i, end = ', ')"
   ]
  },
  {
   "cell_type": "code",
   "execution_count": 31,
   "id": "ef7fc463",
   "metadata": {},
   "outputs": [
    {
     "name": "stdout",
     "output_type": "stream",
     "text": [
      "[1, 2, 90, 91, 92, 3, 4]\n",
      "[1, 2, [90, 91, 92], 4]\n"
     ]
    }
   ],
   "source": [
    "nums = [1,2,3,4]\n",
    "nums[2:2] = [90, 91, 92]\n",
    "print(nums)\n",
    "\n",
    "nums = [1,2,3,4]\n",
    "nums[2] = [90,91,92]\n",
    "print(nums)"
   ]
  },
  {
   "cell_type": "code",
   "execution_count": 32,
   "id": "fe5177f8",
   "metadata": {},
   "outputs": [
    {
     "name": "stdout",
     "output_type": "stream",
     "text": [
      "[88, 95, 70, 99, 80, 78, 50]\n",
      "[88, 95, 99, 80, 78, 50]\n",
      "[88, 78, 50]\n"
     ]
    }
   ],
   "source": [
    "score = [88,95,70,100,99,80,78,50]\n",
    "score.remove(100)\n",
    "print(score)\n",
    "del(score[2])\n",
    "print(score)\n",
    "score[1:4]=[]\n",
    "print(score)"
   ]
  },
  {
   "cell_type": "code",
   "execution_count": 36,
   "id": "8cad4bcf",
   "metadata": {},
   "outputs": [
    {
     "name": "stdout",
     "output_type": "stream",
     "text": [
      "만점 받은 학생은 3번입니다.\n",
      "만점자 수는 1명입니다\n"
     ]
    }
   ],
   "source": [
    "score = [88,95,70,100,99,80,78,50]\n",
    "perfect = score.index(100)\n",
    "print(\"만점 받은 학생은 \" + str(perfect) + \"번입니다.\")\n",
    "pernum = score.count(100)\n",
    "print(\"만점자 수는 \" + str(pernum) + \"명입니다\")"
   ]
  },
  {
   "cell_type": "code",
   "execution_count": 37,
   "id": "7e94481b",
   "metadata": {},
   "outputs": [
    {
     "name": "stdout",
     "output_type": "stream",
     "text": [
      "[70, 88, 95, 99, 100]\n",
      "[100, 99, 95, 88, 70]\n"
     ]
    }
   ],
   "source": [
    "score = [88, 95, 70, 100, 99]\n",
    "score.sort()\n",
    "print(score)\n",
    "score.reverse()\n",
    "print(score)"
   ]
  },
  {
   "cell_type": "code",
   "execution_count": 38,
   "id": "82004d16",
   "metadata": {},
   "outputs": [
    {
     "name": "stdout",
     "output_type": "stream",
     "text": [
      "총점 :  452\n",
      "평균 :  90.4\n"
     ]
    }
   ],
   "source": [
    "score=(88,95,70,100,99)\n",
    "sum=0\n",
    "for s in score:\n",
    "    sum+=s\n",
    "print(\"총점 : \", sum)\n",
    "print(\"평균 : \", sum / len(score))"
   ]
  },
  {
   "cell_type": "code",
   "execution_count": 40,
   "id": "5305d94c",
   "metadata": {},
   "outputs": [
    {
     "name": "stdout",
     "output_type": "stream",
     "text": [
      "4\n",
      "(2, 3, 4)\n",
      "(1, 2, 3, 4, 5, 6, 7)\n",
      "(1, 2, 3, 4, 5, 1, 2, 3, 4, 5)\n"
     ]
    },
    {
     "ename": "TypeError",
     "evalue": "'tuple' object does not support item assignment",
     "output_type": "error",
     "traceback": [
      "\u001b[1;31m---------------------------------------------------------------------------\u001b[0m",
      "\u001b[1;31mTypeError\u001b[0m                                 Traceback (most recent call last)",
      "\u001b[1;32m<ipython-input-40-ef71cdb1b8a4>\u001b[0m in \u001b[0;36m<module>\u001b[1;34m\u001b[0m\n\u001b[0;32m      4\u001b[0m \u001b[0mprint\u001b[0m\u001b[1;33m(\u001b[0m\u001b[0mtu\u001b[0m \u001b[1;33m+\u001b[0m \u001b[1;33m(\u001b[0m\u001b[1;36m6\u001b[0m\u001b[1;33m,\u001b[0m\u001b[1;36m7\u001b[0m\u001b[1;33m)\u001b[0m\u001b[1;33m)\u001b[0m \u001b[1;31m# 가능\u001b[0m\u001b[1;33m\u001b[0m\u001b[1;33m\u001b[0m\u001b[0m\n\u001b[0;32m      5\u001b[0m \u001b[0mprint\u001b[0m\u001b[1;33m(\u001b[0m\u001b[0mtu\u001b[0m\u001b[1;33m*\u001b[0m\u001b[1;36m2\u001b[0m\u001b[1;33m)\u001b[0m       \u001b[1;31m# 가능\u001b[0m\u001b[1;33m\u001b[0m\u001b[1;33m\u001b[0m\u001b[0m\n\u001b[1;32m----> 6\u001b[1;33m \u001b[0mtu\u001b[0m\u001b[1;33m[\u001b[0m\u001b[1;36m1\u001b[0m\u001b[1;33m]\u001b[0m\u001b[1;33m=\u001b[0m\u001b[1;36m100\u001b[0m         \u001b[1;31m# 불가능\u001b[0m\u001b[1;33m\u001b[0m\u001b[1;33m\u001b[0m\u001b[0m\n\u001b[0m\u001b[0;32m      7\u001b[0m \u001b[1;32mdel\u001b[0m \u001b[0mtu\u001b[0m\u001b[1;33m[\u001b[0m\u001b[1;36m1\u001b[0m\u001b[1;33m]\u001b[0m         \u001b[1;31m# 불가능\u001b[0m\u001b[1;33m\u001b[0m\u001b[1;33m\u001b[0m\u001b[0m\n",
      "\u001b[1;31mTypeError\u001b[0m: 'tuple' object does not support item assignment"
     ]
    }
   ],
   "source": [
    "tu = 1,2,3,4,5    # 가능\n",
    "print(tu[3])      # 가능\n",
    "print(tu[1:4])    # 가능\n",
    "print(tu + (6,7)) # 가능\n",
    "print(tu*2)       # 가능\n",
    "tu[1]=100         # 불가능\n",
    "del tu[1]         # 불가능"
   ]
  },
  {
   "cell_type": "code",
   "execution_count": 41,
   "id": "db2a95fc",
   "metadata": {},
   "outputs": [
    {
     "name": "stdout",
     "output_type": "stream",
     "text": [
      "이순신\n",
      "김유신\n",
      "강감찬\n"
     ]
    }
   ],
   "source": [
    "tu = \"이순신\", \"김유신\", \"강감찬\"\n",
    "lee, kim, kang = tu\n",
    "print(lee)\n",
    "print(kim)\n",
    "print(kang)"
   ]
  },
  {
   "cell_type": "code",
   "execution_count": 44,
   "id": "56c60dc6",
   "metadata": {},
   "outputs": [
    {
     "name": "stdout",
     "output_type": "stream",
     "text": [
      "지금은 16시 28분입니다.\n"
     ]
    }
   ],
   "source": [
    "import time\n",
    "\n",
    "def gettime():\n",
    "\tnow =time.localtime()\n",
    "\treturn now.tm_hour, now.tm_min\n",
    "\n",
    "result = gettime()\n",
    "print(\"지금은 %d시 %d분입니다.\" % (result[0], result[1]))"
   ]
  },
  {
   "cell_type": "code",
   "execution_count": 45,
   "id": "406658e3",
   "metadata": {},
   "outputs": [
    {
     "name": "stdout",
     "output_type": "stream",
     "text": [
      "{'boy': '소년', 'school': '학교', 'book': '책'}\n"
     ]
    }
   ],
   "source": [
    "dic = { 'boy' : '소년', 'school':'학교', 'book':'책' }\n",
    "print(dic)"
   ]
  },
  {
   "cell_type": "code",
   "execution_count": 46,
   "id": "4da87ced",
   "metadata": {},
   "outputs": [
    {
     "name": "stdout",
     "output_type": "stream",
     "text": [
      "소년\n",
      "책\n"
     ]
    }
   ],
   "source": [
    "dic = { 'boy' : '소년', 'school':'학교', 'book':'책' }\n",
    "print(dic['boy'])\n",
    "print(dic['book'])"
   ]
  },
  {
   "cell_type": "code",
   "execution_count": 47,
   "id": "9c7ead84",
   "metadata": {},
   "outputs": [
    {
     "name": "stdout",
     "output_type": "stream",
     "text": [
      "None\n",
      "사전에 없는 단어입니다.\n"
     ]
    }
   ],
   "source": [
    "dic = { 'boy' : '소년', 'school':'학교', 'book':'책' }\n",
    "print(dic.get('student'))\n",
    "print(dic.get('student', '사전에 없는 단어입니다.'))"
   ]
  },
  {
   "cell_type": "code",
   "execution_count": 48,
   "id": "7cdd6def",
   "metadata": {},
   "outputs": [
    {
     "name": "stdout",
     "output_type": "stream",
     "text": [
      "{'boy': '남자애', 'school': '학교', 'girl': '소녀'}\n"
     ]
    }
   ],
   "source": [
    "dic = { 'boy':'소년', 'school':'학교', 'book':'책'}\n",
    "dic['boy']='남자애'\n",
    "dic['girl'] = '소녀'\n",
    "del dic ['book']\n",
    "print(dic)"
   ]
  },
  {
   "cell_type": "code",
   "execution_count": 49,
   "id": "35468bbf",
   "metadata": {},
   "outputs": [
    {
     "name": "stdout",
     "output_type": "stream",
     "text": [
      "dict_keys(['boy', 'school', 'book'])\n",
      "dict_values(['소년', '학교', '책'])\n",
      "dict_items([('boy', '소년'), ('school', '학교'), ('book', '책')])\n"
     ]
    }
   ],
   "source": [
    "dic = { 'boy':'소년', 'school':'학교', 'book':'책'}\n",
    "print(dic.keys())\n",
    "print(dic.values())\n",
    "print(dic.items())\n"
   ]
  },
  {
   "cell_type": "code",
   "execution_count": 50,
   "id": "94ebd641",
   "metadata": {},
   "outputs": [
    {
     "name": "stdout",
     "output_type": "stream",
     "text": [
      "boy\n",
      "school\n",
      "book\n"
     ]
    }
   ],
   "source": [
    "dic = { 'boy':'소년', 'school':'학교', 'book':'책'}\n",
    "keylist = dic.keys()\n",
    "for key in keylist:\n",
    "    print(key)"
   ]
  },
  {
   "cell_type": "code",
   "execution_count": 51,
   "id": "c4eeb559",
   "metadata": {},
   "outputs": [
    {
     "name": "stdout",
     "output_type": "stream",
     "text": [
      "{'c': 3, 'o': 7, 's': 8, 'a': 11, 'h': 16, 'i': 17, 'm': 5, 'n': 10, 't': 19, 'e': 10, 'r': 4, 'g': 7, 'w': 3, 'b': 1, 'f': 2, 'd': 3, 'l': 6, 'u': 4, 'y': 2, 'k': 2, 'p': 1}\n"
     ]
    }
   ],
   "source": [
    "song = \"\"\"Cos ah ah I'm in the stars tonight\n",
    "So watch me bring the fire \n",
    "and set the night alight\n",
    "Shining through the city \n",
    "with a little funk and soul\n",
    "So I'mma light it up like dynamite, woah\"\"\"\n",
    "\n",
    "alphabet = dict()\n",
    "for c in song:\n",
    "    if c.isalpha() == False:\n",
    "        continue\n",
    "    c = c.lower()\n",
    "    if c not in alphabet:\n",
    "        alphabet[c] = 1\n",
    "    else:\n",
    "        alphabet[c] += 1\n",
    "print(alphabet)"
   ]
  },
  {
   "cell_type": "code",
   "execution_count": 52,
   "id": "67815c2d",
   "metadata": {},
   "outputs": [
    {
     "name": "stdout",
     "output_type": "stream",
     "text": [
      "a => 11\n",
      "b => 1\n",
      "c => 3\n",
      "d => 3\n",
      "e => 10\n",
      "f => 2\n",
      "g => 7\n",
      "h => 16\n",
      "i => 17\n",
      "k => 2\n",
      "l => 6\n",
      "m => 5\n",
      "n => 10\n",
      "o => 7\n",
      "p => 1\n",
      "r => 4\n",
      "s => 8\n",
      "t => 19\n",
      "u => 4\n",
      "w => 3\n",
      "y => 2\n"
     ]
    }
   ],
   "source": [
    "song = \"\"\"Cos ah ah I'm in the stars tonight\n",
    "So watch me bring the fire \n",
    "and set the night alight\n",
    "Shining through the city \n",
    "with a little funk and soul\n",
    "So I'mma light it up like dynamite, woah\"\"\"\n",
    "\n",
    "alphabet = dict()\n",
    "for c in song:\n",
    "    if c.isalpha() == False:\n",
    "        continue\n",
    "    c = c.lower()\n",
    "    if c not in alphabet:\n",
    "        alphabet[c] = 1\n",
    "    else:\n",
    "        alphabet[c] += 1\n",
    "\n",
    "key = list(alphabet.keys())\n",
    "key.sort()\n",
    "for c in key:\n",
    "    num = alphabet[c]\n",
    "    print(c, \"=>\", num)"
   ]
  },
  {
   "cell_type": "code",
   "execution_count": 53,
   "id": "92eeb66d",
   "metadata": {},
   "outputs": [
    {
     "name": "stdout",
     "output_type": "stream",
     "text": [
      "a => 11\n",
      "b => 1\n",
      "c => 3\n",
      "d => 3\n",
      "e => 10\n",
      "f => 2\n",
      "g => 7\n",
      "h => 16\n",
      "i => 17\n",
      "k => 2\n",
      "l => 6\n",
      "m => 5\n",
      "n => 10\n",
      "o => 7\n",
      "p => 1\n",
      "r => 4\n",
      "s => 8\n",
      "t => 19\n",
      "u => 4\n",
      "w => 3\n",
      "y => 2\n"
     ]
    }
   ],
   "source": [
    "song = \"\"\"Cos ah ah I'm in the stars tonight\n",
    "So watch me bring the fire \n",
    "and set the night alight\n",
    "Shining through the city \n",
    "with a little funk and soul\n",
    "So I'mma light it up like dynamite, woah\"\"\"\n",
    "\n",
    "alphabet = dict()\n",
    "for c in song:\n",
    "    if c.isalpha() == False:\n",
    "        continue\n",
    "    c = c.lower()\n",
    "    if c not in alphabet:\n",
    "        alphabet[c] = 1\n",
    "    else:\n",
    "        alphabet[c] += 1\n",
    "        \n",
    "alphabet=sorted(alphabet.items())\n",
    "for c in alphabet:\n",
    "    print(c[0],\"=>\",c[1])\n"
   ]
  },
  {
   "cell_type": "code",
   "execution_count": 54,
   "id": "0d50ac79",
   "metadata": {},
   "outputs": [
    {
     "name": "stdout",
     "output_type": "stream",
     "text": [
      "a => 11\n",
      "b => 1\n",
      "c => 3\n",
      "d => 3\n",
      "e => 10\n",
      "f => 2\n",
      "g => 7\n",
      "h => 16\n",
      "i => 17\n",
      "j => 0\n",
      "k => 2\n",
      "l => 6\n",
      "m => 5\n",
      "n => 10\n",
      "o => 7\n",
      "p => 1\n",
      "q => 0\n",
      "r => 4\n",
      "s => 8\n",
      "t => 19\n",
      "u => 4\n",
      "v => 0\n",
      "w => 3\n",
      "x => 0\n",
      "y => 2\n",
      "z => 0\n"
     ]
    }
   ],
   "source": [
    "song = \"\"\"Cos ah ah I'm in the stars tonight\n",
    "So watch me bring the fire \n",
    "and set the night alight\n",
    "Shining through the city \n",
    "with a little funk and soul\n",
    "So I'mma light it up like dynamite, woah\"\"\"\n",
    "\n",
    "alphabet = dict()\n",
    "for c in song:\n",
    "    if c.isalpha() == False:\n",
    "        continue\n",
    "    c = c.lower()\n",
    "    if c not in alphabet:\n",
    "        alphabet[c] = 1\n",
    "    else:\n",
    "        alphabet[c] += 1\n",
    "        \n",
    "for code in range(ord('a'), ord('z') + 1):\n",
    "    c = chr(code)\n",
    "    num = alphabet.get(c, 0)\n",
    "    print(c, \"=>\", num)"
   ]
  },
  {
   "cell_type": "code",
   "execution_count": 55,
   "id": "960c7c0f",
   "metadata": {},
   "outputs": [
    {
     "name": "stdout",
     "output_type": "stream",
     "text": [
      "~ 4 = 10\n",
      "~ 10 = 55\n"
     ]
    }
   ],
   "source": [
    "def printsum(n):\n",
    "    sum = 0\n",
    "    for num in range(n+1):\n",
    "        sum+=num\n",
    "    print(\"~\", n, \"=\", sum)\n",
    "\n",
    "printsum(4)\n",
    "printsum(10)\n"
   ]
  },
  {
   "cell_type": "code",
   "execution_count": 56,
   "id": "84561c42",
   "metadata": {},
   "outputs": [
    {
     "name": "stdout",
     "output_type": "stream",
     "text": [
      "tho\n",
      "hon\n",
      "pyth\n",
      "th\n"
     ]
    }
   ],
   "source": [
    "s = \"python\"\n",
    "print(s[2:5])\n",
    "print(s[3:])\n",
    "print(s[:4])\n",
    "print(s[2:-2])\n"
   ]
  },
  {
   "cell_type": "code",
   "execution_count": 57,
   "id": "421211d8",
   "metadata": {},
   "outputs": [
    {
     "name": "stdout",
     "output_type": "stream",
     "text": [
      "촬영 날짜 : 12월 24일\n",
      "촬영 시간 : 10시 48분\n",
      "확장자 : jpg\n"
     ]
    }
   ],
   "source": [
    "file=\"20171224-104830.jpg\"\n",
    "print(\"촬영 날짜 : \" + file[4:6] + \"월 \" + file[6:8] + \"일\")\n",
    "print(\"촬영 시간 : \" + file[9:11] + \"시 \" + file[11:13] + \"분\")\n",
    "print(\"확장자 : \" + file[-3:])"
   ]
  },
  {
   "cell_type": "code",
   "execution_count": 58,
   "id": "7fc41ca0",
   "metadata": {
    "scrolled": true
   },
   "outputs": [
    {
     "name": "stdout",
     "output_type": "stream",
     "text": [
      "True\n",
      "False\n",
      "True\n",
      "True\n"
     ]
    }
   ],
   "source": [
    "s = \"python programming\"\n",
    "print('a' in s)\n",
    "print('z' in s)\n",
    "print('pro' in s)\n",
    "print('x' not in s)\n"
   ]
  },
  {
   "cell_type": "code",
   "execution_count": 59,
   "id": "ec6dfe0e",
   "metadata": {},
   "outputs": [
    {
     "name": "stdout",
     "output_type": "stream",
     "text": [
      "18\n",
      "4\n",
      "9\n",
      "8\n",
      "2\n"
     ]
    }
   ],
   "source": [
    "s = \"python programming\"\n",
    "print(len(s))\n",
    "print(s.find('o'))\n",
    "print(s.rfind('o'))\n",
    "print(s.index('r'))\n",
    "print(s.count('n'))"
   ]
  }
 ],
 "metadata": {
  "kernelspec": {
   "display_name": "Python 3",
   "language": "python",
   "name": "python3"
  },
  "language_info": {
   "codemirror_mode": {
    "name": "ipython",
    "version": 3
   },
   "file_extension": ".py",
   "mimetype": "text/x-python",
   "name": "python",
   "nbconvert_exporter": "python",
   "pygments_lexer": "ipython3",
   "version": "3.8.8"
  }
 },
 "nbformat": 4,
 "nbformat_minor": 5
}
